{
 "cells": [
  {
   "cell_type": "code",
   "execution_count": 12,
   "id": "39ba8b68-12fd-486a-9227-1087e819f483",
   "metadata": {},
   "outputs": [],
   "source": [
    "import requests"
   ]
  },
  {
   "cell_type": "code",
   "execution_count": 7,
   "id": "098a7390-1b5a-4da9-8c5c-ad01cfb4b023",
   "metadata": {},
   "outputs": [],
   "source": [
    "start = '2021-11-05'\n",
    "stop = '2021-11-12'\n",
    "bbox = {'north': 37.7, \n",
    "        'south': 37.6, \n",
    "        'west': -119.1, \n",
    "        'east': -119}"
   ]
  },
  {
   "cell_type": "code",
   "execution_count": 8,
   "id": "efa71611-69f9-45b1-8269-d6fc38344854",
   "metadata": {},
   "outputs": [],
   "source": [
    "def make_url(product, collection, start, stop, bbox, day=False, night=False):\n",
    "    host = 'https://ladsweb.modaps.eosdis.nasa.gov'\n",
    "    api = '/api/v1/files/'\n",
    "    query = 'product={product}&collection={collection}&'\\\n",
    "            'dateRanges={start}..{stop}&'\\\n",
    "            'areaOfInterest=x{west}y{north},x{east}y{south}&'\\\n",
    "            'dayCoverage={day}&nightCoverage={night}'\n",
    "    query = query.format(product=product, collection=collection,\n",
    "                         start=start, stop=stop,\n",
    "                         north=bbox['north'], south=bbox['south'], west=bbox['west'], east=bbox['east'],\n",
    "                         day=str(day).lower(), night=str(night).lower())\n",
    "\n",
    "    url = host+api+query\n",
    "    return url"
   ]
  },
  {
   "cell_type": "code",
   "execution_count": 10,
   "id": "52420e54-bcc5-4af6-ba60-68b0ea954888",
   "metadata": {},
   "outputs": [],
   "source": [
    "query_url = make_url(product='MOD09', collection=6, start=start, stop=stop, bbox=bbox, day=True)\n",
    "query_url = make_url(product='MOD09GA', collection=61, start=start, stop=stop, bbox=bbox, day=True)"
   ]
  },
  {
   "cell_type": "code",
   "execution_count": 19,
   "id": "a4d89c8c-0fa3-4aa6-8491-9fda447cbe5a",
   "metadata": {},
   "outputs": [],
   "source": [
    "ret = requests.get(query_url, headers={'X-Requested-With': 'XMLHttpRequest'}, timeout=1200)   \n",
    "json_ret = ret.json()"
   ]
  },
  {
   "cell_type": "code",
   "execution_count": 20,
   "id": "d3901d4d-71b9-4247-b688-fa7242d28119",
   "metadata": {},
   "outputs": [],
   "source": [
    "host = 'https://ladsweb.modaps.eosdis.nasa.gov'\n",
    "urls = []\n",
    "\n",
    "for file_id in json_ret.keys():\n",
    "    ret.json()\n",
    "    url = host + json_ret[file_id]['fileURL']\n",
    "    urls.append((file_id, url))"
   ]
  }
 ],
 "metadata": {
  "kernelspec": {
   "display_name": "Python 3 (ipykernel)",
   "language": "python",
   "name": "python3"
  },
  "language_info": {
   "codemirror_mode": {
    "name": "ipython",
    "version": 3
   },
   "file_extension": ".py",
   "mimetype": "text/x-python",
   "name": "python",
   "nbconvert_exporter": "python",
   "pygments_lexer": "ipython3",
   "version": "3.8.10"
  }
 },
 "nbformat": 4,
 "nbformat_minor": 5
}
