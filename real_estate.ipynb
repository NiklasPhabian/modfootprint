{
 "cells": [
  {
   "cell_type": "code",
   "execution_count": 1,
   "id": "5221dd88-36ba-4f20-a86a-e75be032bae3",
   "metadata": {},
   "outputs": [],
   "source": [
    "%matplotlib widget\n",
    "import netCDF4\n",
    "import pyhdf.SD\n",
    "from osgeo import gdal\n",
    "import numpy\n",
    "import geopandas\n",
    "import pyproj\n",
    "import rasterio\n",
    "import rasterio.features\n",
    "import shapely\n",
    "import matplotlib"
   ]
  },
  {
   "cell_type": "code",
   "execution_count": 2,
   "id": "5aada8af-a449-44be-bb59-5f5c930244de",
   "metadata": {},
   "outputs": [],
   "source": [
    "tile_name = 'data/MOD09GA.A2021309.h08v05.061.2021311034604.hdf'\n",
    "group = 'MODIS_Grid_500m_2D'\n",
    "ds = 'sur_refl_b01_1'"
   ]
  },
  {
   "cell_type": "markdown",
   "id": "18f158df-6043-4966-8fc9-5c9e24854b83",
   "metadata": {},
   "source": [
    "# User"
   ]
  },
  {
   "cell_type": "code",
   "execution_count": 3,
   "id": "c699dcaa-5431-4916-a11e-b19e58081e16",
   "metadata": {},
   "outputs": [],
   "source": [
    "left = -11119505.1966670006513596\n",
    "right= -10007554.6769999992102385\n",
    "bottom = 3335851.5589999998919666\n",
    "top = 4447802.0786669999361038"
   ]
  },
  {
   "cell_type": "markdown",
   "id": "d94e31fa-355b-4102-a199-cfeb45c241f5",
   "metadata": {},
   "source": [
    "# rasterio"
   ]
  },
  {
   "cell_type": "code",
   "execution_count": 4,
   "id": "83695e7c-4341-4619-a6de-4b57eefeb78a",
   "metadata": {},
   "outputs": [],
   "source": [
    "ds_trunk = 'HDF4_EOS:EOS_GRID:{file}:{group}:{ds}'\n",
    "ds_string = ds_trunk.format(file=tile_name, group=group, ds=ds)\n",
    "data = rasterio.open(ds_string, 'r') "
   ]
  },
  {
   "cell_type": "code",
   "execution_count": 5,
   "id": "97132033-23d0-4af8-ab2d-784ae4056cbd",
   "metadata": {},
   "outputs": [
    {
     "data": {
      "text/plain": [
       "(463.31271652791725, 463.3127165279167)"
      ]
     },
     "execution_count": 5,
     "metadata": {},
     "output_type": "execute_result"
    }
   ],
   "source": [
    "data.crs\n",
    "data.res"
   ]
  },
  {
   "cell_type": "code",
   "execution_count": 6,
   "id": "996a201f-b26d-44f7-b88e-037eba57244d",
   "metadata": {},
   "outputs": [],
   "source": [
    "left = data.bounds.left\n",
    "right = data.bounds.right\n",
    "xres = data.width\n",
    "\n",
    "bottom = data.bounds.bottom\n",
    "top = data.bounds.top\n",
    "yres = data.height"
   ]
  },
  {
   "cell_type": "markdown",
   "id": "e2098a16-a697-46e8-bcb9-09261584c6c3",
   "metadata": {},
   "source": [
    "# pyhdf + GDAL"
   ]
  },
  {
   "cell_type": "code",
   "execution_count": 7,
   "id": "045a1884-3778-4c4c-8fa4-0b586e2c7538",
   "metadata": {},
   "outputs": [],
   "source": [
    "tile_sd = pyhdf.SD.SD(tile_name)\n",
    "tile_gdal = gdal.Open(ds_string, gdal.GA_ReadOnly)\n",
    "metadata = tile_gdal.GetMetadata()"
   ]
  },
  {
   "cell_type": "code",
   "execution_count": 8,
   "id": "68bba6f0-e9ba-4928-b570-6764ed032314",
   "metadata": {},
   "outputs": [
    {
     "data": {
      "text/plain": [
       "array([[  -8, -100,  -26, ..., 3429, 3536, 3466],\n",
       "       [ -15,  -15,  -16, ..., 3429, 3629, 3631],\n",
       "       [ -13,  -16,  -16, ..., 3593, 3593, 3536],\n",
       "       ...,\n",
       "       [1058, 1160, 1156, ...,  765,  958,  958],\n",
       "       [1150, 1160, 1156, ...,  878,  878,  782],\n",
       "       [1082, 1082, 1146, ...,  878,  782, 1029]], dtype=int16)"
      ]
     },
     "execution_count": 8,
     "metadata": {},
     "output_type": "execute_result"
    }
   ],
   "source": [
    "trans = tile_gdal.GetGeoTransform()\n",
    "tile_gdal.GetProjection()\n",
    "tile_gdal.RasterXSize\n",
    "tile_gdal.ReadAsArray()"
   ]
  },
  {
   "cell_type": "code",
   "execution_count": 9,
   "id": "9763e3c1-4cf2-407f-95a3-7df7b1e8c2f1",
   "metadata": {},
   "outputs": [],
   "source": [
    "height = trans[5]\n",
    "width = trans[1]\n",
    "\n",
    "left = trans[0]\n",
    "right = left + tile_gdal.RasterXSize*width\n",
    "top = trans[3]\n",
    "bottom = top + tile_gdal.RasterYSize*height"
   ]
  },
  {
   "cell_type": "markdown",
   "id": "df46feee-29f2-41c4-b240-5328b929538c",
   "metadata": {},
   "source": [
    "# Centers"
   ]
  },
  {
   "cell_type": "code",
   "execution_count": 11,
   "id": "06fe7a7c-f465-4dca-aa44-e199ebc3185f",
   "metadata": {},
   "outputs": [],
   "source": [
    "xs = numpy.tile(numpy.arange(left, right, width), (2400, 1)).T\n",
    "ys = numpy.tile(numpy.arange(top, bottom, height), (2400, 1))"
   ]
  },
  {
   "cell_type": "code",
   "execution_count": 24,
   "id": "50bfa88b-5c0d-48ce-8693-12284ff53991",
   "metadata": {},
   "outputs": [
    {
     "data": {
      "text/plain": [
       "list"
      ]
     },
     "execution_count": 24,
     "metadata": {},
     "output_type": "execute_result"
    }
   ],
   "source": [
    "type(centers)"
   ]
  },
  {
   "cell_type": "code",
   "execution_count": 19,
   "id": "d9b6beff-6476-4cae-a9d9-811dd972951e",
   "metadata": {},
   "outputs": [],
   "source": [
    "#xs.flatten()\n",
    "centers = geopandas.points_from_xy(xs.flatten(), ys.flatten())\n"
   ]
  },
  {
   "cell_type": "code",
   "execution_count": 16,
   "id": "515f309a-a24d-405c-a332-ced767bdf17d",
   "metadata": {},
   "outputs": [
    {
     "ename": "KeyboardInterrupt",
     "evalue": "",
     "output_type": "error",
     "traceback": [
      "\u001b[0;31m---------------------------------------------------------------------------\u001b[0m",
      "\u001b[0;31mKeyboardInterrupt\u001b[0m                         Traceback (most recent call last)",
      "Input \u001b[0;32mIn [16]\u001b[0m, in \u001b[0;36m<module>\u001b[0;34m\u001b[0m\n\u001b[1;32m      4\u001b[0m \u001b[38;5;28;01mfor\u001b[39;00m x \u001b[38;5;129;01min\u001b[39;00m xs\u001b[38;5;241m.\u001b[39mflatten():\n\u001b[1;32m      5\u001b[0m     \u001b[38;5;28;01mfor\u001b[39;00m y \u001b[38;5;129;01min\u001b[39;00m ys\u001b[38;5;241m.\u001b[39mflatten():\n\u001b[0;32m----> 6\u001b[0m         center \u001b[38;5;241m=\u001b[39m \u001b[43mshapely\u001b[49m\u001b[38;5;241;43m.\u001b[39;49m\u001b[43mgeometry\u001b[49m\u001b[38;5;241;43m.\u001b[39;49m\u001b[43mpolygon\u001b[49m\u001b[38;5;241;43m.\u001b[39;49m\u001b[43mPoint\u001b[49m\u001b[43m(\u001b[49m\u001b[43mx\u001b[49m\u001b[38;5;241;43m+\u001b[39;49m\u001b[43mwidth\u001b[49m\u001b[38;5;241;43m/\u001b[39;49m\u001b[38;5;241;43m2\u001b[39;49m\u001b[43m,\u001b[49m\u001b[43m \u001b[49m\u001b[43my\u001b[49m\u001b[38;5;241;43m+\u001b[39;49m\u001b[43mheight\u001b[49m\u001b[38;5;241;43m/\u001b[39;49m\u001b[38;5;241;43m2\u001b[39;49m\u001b[43m)\u001b[49m\n\u001b[1;32m      7\u001b[0m         centers\u001b[38;5;241m.\u001b[39mappend(center)\n",
      "File \u001b[0;32m~/miniconda3/envs/spires/lib/python3.9/site-packages/shapely/geometry/point.py:58\u001b[0m, in \u001b[0;36mPoint.__init__\u001b[0;34m(self, *args)\u001b[0m\n\u001b[1;32m     56\u001b[0m \u001b[38;5;28;01melse\u001b[39;00m:\n\u001b[1;32m     57\u001b[0m     geom, n \u001b[38;5;241m=\u001b[39m geos_point_from_py(\u001b[38;5;28mtuple\u001b[39m(args))\n\u001b[0;32m---> 58\u001b[0m \u001b[38;5;28;43mself\u001b[39;49m\u001b[38;5;241;43m.\u001b[39;49m\u001b[43m_set_geom\u001b[49m\u001b[43m(\u001b[49m\u001b[43mgeom\u001b[49m\u001b[43m)\u001b[49m\n\u001b[1;32m     59\u001b[0m \u001b[38;5;28mself\u001b[39m\u001b[38;5;241m.\u001b[39m_ndim \u001b[38;5;241m=\u001b[39m n\n",
      "File \u001b[0;32m~/miniconda3/envs/spires/lib/python3.9/site-packages/shapely/geometry/base.py:241\u001b[0m, in \u001b[0;36mBaseGeometry._set_geom\u001b[0;34m(self, val)\u001b[0m\n\u001b[1;32m    240\u001b[0m \u001b[38;5;28;01mdef\u001b[39;00m \u001b[38;5;21m_set_geom\u001b[39m(\u001b[38;5;28mself\u001b[39m, val):\n\u001b[0;32m--> 241\u001b[0m     \u001b[38;5;28;43mself\u001b[39;49m\u001b[38;5;241;43m.\u001b[39;49m\u001b[43m_empty\u001b[49m\u001b[43m(\u001b[49m\u001b[43m)\u001b[49m\n\u001b[1;32m    242\u001b[0m     \u001b[38;5;28mself\u001b[39m\u001b[38;5;241m.\u001b[39m_is_empty \u001b[38;5;241m=\u001b[39m val \u001b[38;5;129;01min\u001b[39;00m [EMPTY, \u001b[38;5;28;01mNone\u001b[39;00m]\n\u001b[1;32m    243\u001b[0m     \u001b[38;5;28mself\u001b[39m\u001b[38;5;241m.\u001b[39m__geom__ \u001b[38;5;241m=\u001b[39m val\n",
      "File \u001b[0;32m~/miniconda3/envs/spires/lib/python3.9/site-packages/shapely/geometry/base.py:199\u001b[0m, in \u001b[0;36mBaseGeometry._empty\u001b[0;34m(self, val)\u001b[0m\n\u001b[1;32m    195\u001b[0m     \u001b[38;5;28;01mexcept\u001b[39;00m (\u001b[38;5;167;01mAttributeError\u001b[39;00m, \u001b[38;5;167;01mTypeError\u001b[39;00m):\n\u001b[1;32m    196\u001b[0m         \u001b[38;5;66;03m# _lgeos might be empty on shutdown\u001b[39;00m\n\u001b[1;32m    197\u001b[0m         log\u001b[38;5;241m.\u001b[39mexception(\u001b[38;5;124m\"\u001b[39m\u001b[38;5;124mFailed to delete GEOS geom\u001b[39m\u001b[38;5;124m\"\u001b[39m)\n\u001b[0;32m--> 199\u001b[0m \u001b[38;5;28mself\u001b[39m\u001b[38;5;241m.\u001b[39m_is_empty \u001b[38;5;241m=\u001b[39m \u001b[38;5;28;01mTrue\u001b[39;00m\n\u001b[1;32m    200\u001b[0m \u001b[38;5;28mself\u001b[39m\u001b[38;5;241m.\u001b[39m__geom__ \u001b[38;5;241m=\u001b[39m val\n",
      "File \u001b[0;32m~/miniconda3/envs/spires/lib/python3.9/site-packages/shapely/geometry/base.py:249\u001b[0m, in \u001b[0;36mBaseGeometry.__setattr__\u001b[0;34m(self, name, value)\u001b[0m\n\u001b[1;32m    245\u001b[0m \u001b[38;5;28;01mdef\u001b[39;00m \u001b[38;5;21m__setattr__\u001b[39m(\u001b[38;5;28mself\u001b[39m, name, value):\n\u001b[1;32m    246\u001b[0m     \u001b[38;5;66;03m# first try regular attribute access via __getattribute__, so that\u001b[39;00m\n\u001b[1;32m    247\u001b[0m     \u001b[38;5;66;03m# our own (existing) attributes don't raise a warning\u001b[39;00m\n\u001b[1;32m    248\u001b[0m     \u001b[38;5;28;01mtry\u001b[39;00m:\n\u001b[0;32m--> 249\u001b[0m         \u001b[38;5;28;43mobject\u001b[39;49m\u001b[38;5;241m.\u001b[39m\u001b[38;5;21m__getattribute__\u001b[39m(\u001b[38;5;28mself\u001b[39m, name)\n\u001b[1;32m    250\u001b[0m         \u001b[38;5;28msuper\u001b[39m()\u001b[38;5;241m.\u001b[39m\u001b[38;5;21m__setattr__\u001b[39m(name, value)\n\u001b[1;32m    251\u001b[0m         \u001b[38;5;28;01mreturn\u001b[39;00m\n",
      "\u001b[0;31mKeyboardInterrupt\u001b[0m: "
     ]
    }
   ],
   "source": [
    "cells = []\n",
    "centers = []\n",
    "\n",
    "for x in xs.flatten():\n",
    "    for y in ys.flatten():\n",
    "        center = shapely.geometry.polygon.Point(x+width/2, y+height/2)\n",
    "        centers.append(center)\n",
    "        #cell = shapely.geometry.polygon.Polygon([(x, y), (x+width, y),(x+width, y+height),(x, y+height),(x, y)])\n",
    "        #cells.append(cell)"
   ]
  },
  {
   "cell_type": "code",
   "execution_count": null,
   "id": "a40c10b3-0277-4cf2-bf63-9de299b729fd",
   "metadata": {},
   "outputs": [],
   "source": [
    "ix = numpy.numpy.tile(numpy.arange(0, 2400), (2400,1)).T\n",
    "iy = numpy.numpy.tile(numpy.arange(0, 2400), (2400,1))"
   ]
  },
  {
   "cell_type": "code",
   "execution_count": null,
   "id": "a45b5371-8254-4f3d-ae03-161c3969442a",
   "metadata": {},
   "outputs": [],
   "source": [
    "x"
   ]
  },
  {
   "cell_type": "code",
   "execution_count": null,
   "id": "93b589c7-c16e-409c-b5df-170f857a4b62",
   "metadata": {},
   "outputs": [],
   "source": [
    "df = geopandas.GeoDataFrame({'centers': centers, \n",
    "                             'cells': cells,\n",
    "                             'x': xs.flatten(),\n",
    "                             'y': ys.flatten(),\n",
    "                             'ix': ix.flatten(),\n",
    "                             'iy': iy.flatten()})"
   ]
  },
  {
   "cell_type": "code",
   "execution_count": null,
   "id": "4a13ef69-64e4-4a99-b9a7-2a83df2b0555",
   "metadata": {},
   "outputs": [],
   "source": [
    "df"
   ]
  },
  {
   "cell_type": "code",
   "execution_count": null,
   "id": "999ed22d-1619-4c6e-80a7-1f1e12545b93",
   "metadata": {},
   "outputs": [],
   "source": [
    "wkt = '''PROJCS[\"example_name\",\n",
    "            GEOGCS[\"GCS_Undefined\",\n",
    "                DATUM[\"Undefined\",SPHEROID[\"User_Defined_Spheroid\",637007.181,0.0]],        \n",
    "                UNIT[\"Degree\",0.0174532925199433]],\n",
    "            PROJECTION[\"Sinusoidal\"],            \n",
    "            UNIT[\"Meter\",1.0]]'''\n",
    "crs = pyproj.crs.CRS(wkt)\n",
    "points = geopandas.points_from_xy(xs.flatten()[0:5000], ys.flatten()[0:5000])\n",
    "gdf = geopandas.GeoDataFrame(geometry=points, crs=crs)\n",
    "gdf.to_file('pts.gpkg')"
   ]
  },
  {
   "cell_type": "markdown",
   "id": "85cade3b-70bb-46db-a43a-c3c46aca657d",
   "metadata": {},
   "source": [
    "# Make Grid"
   ]
  },
  {
   "cell_type": "code",
   "execution_count": null,
   "id": "d965e78b-bade-4f9f-ad64-7ccdd6ade3f6",
   "metadata": {},
   "outputs": [],
   "source": [
    "lat = ys *  90 / 10000000 \n",
    "lon = xs / numpy.cos(numpy.radians(lat)) *  90 / 10000000\n",
    "\n",
    "#lat = ys / 10000000 / 0.0174532925199433 * numpy.pi/2\n",
    "#lon = xs / numpy.cos(numpy.radians(lat)) / 10000000 / 0.0174532925199433  * numpy.pi/2\n"
   ]
  },
  {
   "cell_type": "code",
   "execution_count": null,
   "id": "3f210055-021a-4373-8533-5f6f197f29ed",
   "metadata": {},
   "outputs": [],
   "source": [
    "wkt = '''GEOGCS[\"GCS_Undefined\",\n",
    "            DATUM[\"Undefined\",SPHEROID[\"User_Defined_Spheroid\",6371007.181,0.0]],        \n",
    "            UNIT[\"Degree\",0.0174532925199433]],'''\n",
    "crs = pyproj.crs.CRS(wkt)\n",
    "points = geopandas.points_from_xy(lon.flatten()[0:5000], lat.flatten()[0:5000])\n",
    "#gdf = geopandas.GeoDataFrame(geometry=points, crs='EPSG:4326')\n",
    "gdf = geopandas.GeoDataFrame(geometry=points, crs=crs)\n",
    "gdf.to_file('pts.gpkg')\n",
    "gdf"
   ]
  },
  {
   "cell_type": "markdown",
   "id": "d08286b7-46ca-4e24-90c9-82ad47c4c70a",
   "metadata": {},
   "source": [
    "# MOD09GA"
   ]
  },
  {
   "cell_type": "code",
   "execution_count": null,
   "id": "cb5f6e0f-f980-4efe-92fc-758a6aed2cc4",
   "metadata": {},
   "outputs": [],
   "source": [
    "sur_refl_b01_1 = mod09ga.select('sur_refl_b01_1').get()\n",
    "sur_refl_b02_1 = mod09ga.select('sur_refl_b02_1').get()\n",
    "sur_refl_b03_1 = mod09ga.select('sur_refl_b03_1').get()\n",
    "sur_refl_b04_1 = mod09ga.select('sur_refl_b04_1').get()\n",
    "sur_refl_b05_1 = mod09ga.select('sur_refl_b05_1').get()\n",
    "sur_refl_b06_1 = mod09ga.select('sur_refl_b06_1').get()\n",
    "sur_refl_b07_1 = mod09ga.select('sur_refl_b07_1').get()"
   ]
  },
  {
   "cell_type": "markdown",
   "id": "b892242d-989c-4d77-80ac-53dcbbe233b3",
   "metadata": {},
   "source": [
    "# MOD09"
   ]
  },
  {
   "cell_type": "code",
   "execution_count": null,
   "id": "65a0ad16-79a4-4584-a28b-27e117308d60",
   "metadata": {},
   "outputs": [],
   "source": [
    "dataset = gdal.Open(filename, gdal.GA_ReadOnly)\n"
   ]
  }
 ],
 "metadata": {
  "kernelspec": {
   "display_name": "Python 3 (ipykernel)",
   "language": "python",
   "name": "python3"
  },
  "language_info": {
   "codemirror_mode": {
    "name": "ipython",
    "version": 3
   },
   "file_extension": ".py",
   "mimetype": "text/x-python",
   "name": "python",
   "nbconvert_exporter": "python",
   "pygments_lexer": "ipython3",
   "version": "3.9.10"
  }
 },
 "nbformat": 4,
 "nbformat_minor": 5
}
