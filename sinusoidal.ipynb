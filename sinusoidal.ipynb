{
 "cells": [
  {
   "cell_type": "code",
   "execution_count": 1,
   "id": "653e8fe6-bf25-4b8d-a8ed-523ccc7cd5a1",
   "metadata": {},
   "outputs": [],
   "source": [
    "import numpy"
   ]
  },
  {
   "cell_type": "markdown",
   "id": "e44faee1-8cff-48f4-a258-b9f6db8f966a",
   "metadata": {},
   "source": [
    "# Sinusoidal Projection"
   ]
  },
  {
   "cell_type": "code",
   "execution_count": null,
   "id": "f1c6ed3d-beed-4158-b587-74588b0434cd",
   "metadata": {},
   "outputs": [],
   "source": [
    "i = 0\n",
    "\n",
    "a = 6371007.181\n",
    "b = a\n",
    "c = a\n",
    "\n",
    "x = a * numpy.cos(numpy.radians(lat)) * numpy.cos(numpy.radians(lon))\n",
    "y = b * numpy.cos(numpy.radians(lat)) * numpy.sin(numpy.radians(lon))\n",
    "z = c * numpy.sin(numpy.radians(lat))"
   ]
  },
  {
   "cell_type": "markdown",
   "id": "c913f1dd-24db-4f10-981c-7fe3b638b7ac",
   "metadata": {},
   "source": [
    "# Projection to WGS84"
   ]
  },
  {
   "cell_type": "code",
   "execution_count": 3,
   "id": "8cd7da78-beae-4ef5-9d90-4b9f8b264900",
   "metadata": {},
   "outputs": [],
   "source": [
    "f = 1/298.257223563\n",
    "a1 = 6378137\n",
    "b1 = a1\n",
    "c1 = a1*(1-f)"
   ]
  },
  {
   "cell_type": "markdown",
   "id": "0893c5d4-e32f-48a6-8074-cb7dc12f9c2c",
   "metadata": {},
   "source": [
    "# Reprojection"
   ]
  },
  {
   "cell_type": "code",
   "execution_count": null,
   "id": "0e9781ea-fcc6-4603-9cd2-4898f78beeff",
   "metadata": {},
   "outputs": [],
   "source": [
    "x1 = x * a1/a\n",
    "y1 = y * b1/b\n",
    "z1 = z * c/c1\n",
    "\n",
    "lon1 = numpy.degrees(numpy.arctan((y/x) * (b1/a1) ))-180\n",
    "lat1 = numpy.degrees(numpy.arcsin(z/c))\n",
    "lat1"
   ]
  },
  {
   "cell_type": "code",
   "execution_count": 4,
   "id": "e9bb7df1-23d4-48db-a17f-9a3545be89bc",
   "metadata": {},
   "outputs": [],
   "source": [
    "# Writing to GeoPackage"
   ]
  },
  {
   "cell_type": "code",
   "execution_count": null,
   "id": "6f0db199-cb50-4c7c-a7a0-74dda1013952",
   "metadata": {},
   "outputs": [],
   "source": [
    "points = geopandas.points_from_xy(lon1.flatten()[0:5000], \n",
    "                                  lat1.flatten()[0:5000])\n",
    "\n",
    "gdf = geopandas.GeoDataFrame(geometry=points, crs='EPSG:4326')\n",
    "#gdf = gdf.to_crs('EPSG:4326')\n",
    "gdf.to_file('pts.gpkg')"
   ]
  }
 ],
 "metadata": {
  "kernelspec": {
   "display_name": "Python 3 (ipykernel)",
   "language": "python",
   "name": "python3"
  },
  "language_info": {
   "codemirror_mode": {
    "name": "ipython",
    "version": 3
   },
   "file_extension": ".py",
   "mimetype": "text/x-python",
   "name": "python",
   "nbconvert_exporter": "python",
   "pygments_lexer": "ipython3",
   "version": "3.9.10"
  }
 },
 "nbformat": 4,
 "nbformat_minor": 5
}
