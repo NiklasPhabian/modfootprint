{
 "cells": [
  {
   "cell_type": "code",
   "execution_count": 8,
   "id": "0c3897ae-e905-4b6d-bb94-730421c22e73",
   "metadata": {},
   "outputs": [],
   "source": [
    "import starepandas\n",
    "import pickle"
   ]
  },
  {
   "cell_type": "code",
   "execution_count": 2,
   "id": "2789a114-0538-4d18-a66c-fc1a80d79172",
   "metadata": {},
   "outputs": [],
   "source": [
    "folder = '/tablespace/spires/mod09/'\n",
    "catalog = starepandas.folder2catalog(path=folder, granule_trunk='MOD09', add_sf=False)"
   ]
  },
  {
   "cell_type": "code",
   "execution_count": 3,
   "id": "ae5ed0e5-afb3-452f-a952-e9a3fbb27b75",
   "metadata": {},
   "outputs": [],
   "source": [
    "catalog.sort_values('begining', inplace=True)\n",
    "catalog.set_index('begining', inplace=True)"
   ]
  },
  {
   "cell_type": "code",
   "execution_count": 5,
   "id": "c65572cd-973a-4fd6-ae89-e53b779c520c",
   "metadata": {},
   "outputs": [
    {
     "data": {
      "text/html": [
       "<div>\n",
       "<style scoped>\n",
       "    .dataframe tbody tr th:only-of-type {\n",
       "        vertical-align: middle;\n",
       "    }\n",
       "\n",
       "    .dataframe tbody tr th {\n",
       "        vertical-align: top;\n",
       "    }\n",
       "\n",
       "    .dataframe thead th {\n",
       "        text-align: right;\n",
       "    }\n",
       "</style>\n",
       "<table border=\"1\" class=\"dataframe\">\n",
       "  <thead>\n",
       "    <tr style=\"text-align: right;\">\n",
       "      <th></th>\n",
       "      <th>granule_path</th>\n",
       "      <th>sidecar_path</th>\n",
       "      <th>stare_cover</th>\n",
       "      <th>ending</th>\n",
       "    </tr>\n",
       "    <tr>\n",
       "      <th>begining</th>\n",
       "      <th></th>\n",
       "      <th></th>\n",
       "      <th></th>\n",
       "      <th></th>\n",
       "    </tr>\n",
       "  </thead>\n",
       "  <tbody>\n",
       "    <tr>\n",
       "      <th>2021-01-05 18:30:00</th>\n",
       "      <td>/tablespace/spires/mod09/MOD09.A2021005.1830.0...</td>\n",
       "      <td>/tablespace/spires/mod09/MOD09.A2021005.1830.0...</td>\n",
       "      <td>[3325908324813111300, 3328160124626796548, 333...</td>\n",
       "      <td>2021-01-05 18:35:00</td>\n",
       "    </tr>\n",
       "    <tr>\n",
       "      <th>2021-01-06 19:10:00</th>\n",
       "      <td>/tablespace/spires/mod09/MOD09.A2021006.1910.0...</td>\n",
       "      <td>/tablespace/spires/mod09/MOD09.A2021006.1910.0...</td>\n",
       "      <td>[3244843531520442372, 3247095331334127620, 324...</td>\n",
       "      <td>2021-01-06 19:15:00</td>\n",
       "    </tr>\n",
       "    <tr>\n",
       "      <th>2021-01-06 19:15:00</th>\n",
       "      <td>/tablespace/spires/mod09/MOD09.A2021006.1915.0...</td>\n",
       "      <td>/tablespace/spires/mod09/MOD09.A2021006.1915.0...</td>\n",
       "      <td>[3215570133942534148, 3260606130216239108, 327...</td>\n",
       "      <td>2021-01-06 19:20:00</td>\n",
       "    </tr>\n",
       "    <tr>\n",
       "      <th>2021-01-07 18:15:00</th>\n",
       "      <td>/tablespace/spires/mod09/MOD09.A2021007.1815.0...</td>\n",
       "      <td>/tablespace/spires/mod09/MOD09.A2021007.1815.0...</td>\n",
       "      <td>[3075958545494048772, 3319152925372055556, 332...</td>\n",
       "      <td>2021-01-07 18:20:00</td>\n",
       "    </tr>\n",
       "    <tr>\n",
       "      <th>2021-01-07 18:20:00</th>\n",
       "      <td>/tablespace/spires/mod09/MOD09.A2021007.1820.0...</td>\n",
       "      <td>/tablespace/spires/mod09/MOD09.A2021007.1820.0...</td>\n",
       "      <td>[3445253714938429444, 3447505514752114692, 344...</td>\n",
       "      <td>2021-01-07 18:25:00</td>\n",
       "    </tr>\n",
       "    <tr>\n",
       "      <th>2021-01-07 19:55:00</th>\n",
       "      <td>/tablespace/spires/mod09/MOD09.A2021007.1955.0...</td>\n",
       "      <td>/tablespace/spires/mod09/MOD09.A2021007.1955.0...</td>\n",
       "      <td>[3253850730775183364, 3258354330402553860, 326...</td>\n",
       "      <td>2021-01-07 20:00:00</td>\n",
       "    </tr>\n",
       "  </tbody>\n",
       "</table>\n",
       "</div>"
      ],
      "text/plain": [
       "                                                          granule_path  \\\n",
       "begining                                                                 \n",
       "2021-01-05 18:30:00  /tablespace/spires/mod09/MOD09.A2021005.1830.0...   \n",
       "2021-01-06 19:10:00  /tablespace/spires/mod09/MOD09.A2021006.1910.0...   \n",
       "2021-01-06 19:15:00  /tablespace/spires/mod09/MOD09.A2021006.1915.0...   \n",
       "2021-01-07 18:15:00  /tablespace/spires/mod09/MOD09.A2021007.1815.0...   \n",
       "2021-01-07 18:20:00  /tablespace/spires/mod09/MOD09.A2021007.1820.0...   \n",
       "2021-01-07 19:55:00  /tablespace/spires/mod09/MOD09.A2021007.1955.0...   \n",
       "\n",
       "                                                          sidecar_path  \\\n",
       "begining                                                                 \n",
       "2021-01-05 18:30:00  /tablespace/spires/mod09/MOD09.A2021005.1830.0...   \n",
       "2021-01-06 19:10:00  /tablespace/spires/mod09/MOD09.A2021006.1910.0...   \n",
       "2021-01-06 19:15:00  /tablespace/spires/mod09/MOD09.A2021006.1915.0...   \n",
       "2021-01-07 18:15:00  /tablespace/spires/mod09/MOD09.A2021007.1815.0...   \n",
       "2021-01-07 18:20:00  /tablespace/spires/mod09/MOD09.A2021007.1820.0...   \n",
       "2021-01-07 19:55:00  /tablespace/spires/mod09/MOD09.A2021007.1955.0...   \n",
       "\n",
       "                                                           stare_cover  \\\n",
       "begining                                                                 \n",
       "2021-01-05 18:30:00  [3325908324813111300, 3328160124626796548, 333...   \n",
       "2021-01-06 19:10:00  [3244843531520442372, 3247095331334127620, 324...   \n",
       "2021-01-06 19:15:00  [3215570133942534148, 3260606130216239108, 327...   \n",
       "2021-01-07 18:15:00  [3075958545494048772, 3319152925372055556, 332...   \n",
       "2021-01-07 18:20:00  [3445253714938429444, 3447505514752114692, 344...   \n",
       "2021-01-07 19:55:00  [3253850730775183364, 3258354330402553860, 326...   \n",
       "\n",
       "                                 ending  \n",
       "begining                                 \n",
       "2021-01-05 18:30:00 2021-01-05 18:35:00  \n",
       "2021-01-06 19:10:00 2021-01-06 19:15:00  \n",
       "2021-01-06 19:15:00 2021-01-06 19:20:00  \n",
       "2021-01-07 18:15:00 2021-01-07 18:20:00  \n",
       "2021-01-07 18:20:00 2021-01-07 18:25:00  \n",
       "2021-01-07 19:55:00 2021-01-07 20:00:00  "
      ]
     },
     "execution_count": 5,
     "metadata": {},
     "output_type": "execute_result"
    }
   ],
   "source": [
    "catalog.loc['2021-01-05':'2021-01-07']"
   ]
  },
  {
   "cell_type": "code",
   "execution_count": 6,
   "id": "869681b7-da49-4f05-afba-1dd5d35cf0e7",
   "metadata": {},
   "outputs": [
    {
     "name": "stdout",
     "output_type": "stream",
     "text": [
      "<class 'starepandas.staredataframe.STAREDataFrame'>\n",
      "DatetimeIndex: 13102 entries, 2000-02-24 18:25:00 to 2022-08-01 19:25:00\n",
      "Data columns (total 4 columns):\n",
      " #   Column        Non-Null Count  Dtype         \n",
      "---  ------        --------------  -----         \n",
      " 0   granule_path  13102 non-null  object        \n",
      " 1   sidecar_path  13102 non-null  object        \n",
      " 2   stare_cover   13102 non-null  object        \n",
      " 3   ending        13102 non-null  datetime64[ns]\n",
      "dtypes: datetime64[ns](1), object(3)\n",
      "memory usage: 473.2 MB\n"
     ]
    }
   ],
   "source": [
    "catalog.info(memory_usage='deep')"
   ]
  },
  {
   "cell_type": "code",
   "execution_count": 9,
   "id": "05d9ea69-230d-4539-a780-964db2b8831e",
   "metadata": {},
   "outputs": [],
   "source": [
    "with open('catalog.pickle', 'wb') as f:\n",
    "    pickle.dump(catalog, f)"
   ]
  },
  {
   "cell_type": "code",
   "execution_count": null,
   "id": "e3c44047-43f7-4223-8b85-22f68f35e4e7",
   "metadata": {},
   "outputs": [],
   "source": []
  }
 ],
 "metadata": {
  "kernelspec": {
   "display_name": "Python 3 (ipykernel)",
   "language": "python",
   "name": "python3"
  },
  "language_info": {
   "codemirror_mode": {
    "name": "ipython",
    "version": 3
   },
   "file_extension": ".py",
   "mimetype": "text/x-python",
   "name": "python",
   "nbconvert_exporter": "python",
   "pygments_lexer": "ipython3",
   "version": "3.8.10"
  }
 },
 "nbformat": 4,
 "nbformat_minor": 5
}
