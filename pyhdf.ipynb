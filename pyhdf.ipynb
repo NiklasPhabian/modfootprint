{
 "cells": [
  {
   "cell_type": "markdown",
   "id": "58ed9cd8-9fd2-4a24-9632-461f4c2b4555",
   "metadata": {},
   "source": [
    "# How to read hdf4eos with \n",
    "- pyhdf\n",
    "- gdal\n",
    "- rasterio\n",
    "\n",
    "Note: https://github.com/rasterio/rasterio/issues/2026\n",
    "--> Need to use the system's gdal. I.e. do something like:\n",
    "```\n",
    "pip3 uninstall rasterio\n",
    "sudo apt install libgdal-dev/focal\n",
    "pip3 install rasterio --no-binary rasterio\n",
    "```"
   ]
  },
  {
   "cell_type": "code",
   "execution_count": 2,
   "id": "f216da70-f5e1-4cb9-b53b-3223d6340670",
   "metadata": {},
   "outputs": [],
   "source": [
    "import pyhdf.SD\n",
    "from osgeo import gdal\n",
    "import rasterio"
   ]
  },
  {
   "cell_type": "code",
   "execution_count": 5,
   "id": "393a3582-5777-4556-8962-6646add4c3c2",
   "metadata": {},
   "outputs": [],
   "source": [
    "tile_name = '/tablespace/spires/mod09ga/MOD09GA.A2021001.h08v05.006.2021003022347.hdf'\n",
    "group = 'MODIS_Grid_500m_2D'\n",
    "ds = 'sur_refl_b01_1'\n",
    "ds_trunk = 'HDF4_EOS:EOS_GRID:{file}:{group}:{ds}'\n",
    "ds_string = ds_trunk.format(file=tile_name, group=group, ds=ds)"
   ]
  },
  {
   "cell_type": "markdown",
   "id": "24d55999-6a6f-4f9e-a7b0-b6267f3d8be1",
   "metadata": {},
   "source": [
    "# Rasterio"
   ]
  },
  {
   "cell_type": "code",
   "execution_count": 4,
   "id": "3b1a617d-ccb0-4553-9e73-4cebba6fa876",
   "metadata": {},
   "outputs": [
    {
     "data": {
      "text/plain": [
       "array([[[   0,   28,   28, ..., 1805,  918, 1332],\n",
       "        [  -1,   35,   35, ..., 1389, 1595, 1419],\n",
       "        [  -7,   -7,   -7, ..., 1403, 2189, 3363],\n",
       "        ...,\n",
       "        [ 758,  758,  778, ..., 6201, 6201, 6421],\n",
       "        [ 758,  778,  778, ..., 6201, 6378, 6378],\n",
       "        [ 709,  709,  820, ..., 6104, 6104, 5855]]], dtype=int16)"
      ]
     },
     "execution_count": 4,
     "metadata": {},
     "output_type": "execute_result"
    }
   ],
   "source": [
    "data = rasterio.open(ds_string) \n",
    "left = data.bounds.left\n",
    "right = data.bounds.right\n",
    "width = data.width\n",
    "\n",
    "bottom = data.bounds.bottom\n",
    "top = data.bounds.top\n",
    "height = data.height\n",
    "\n",
    "r = data.crs.to_dict()['R'] # Earth Radius\n",
    "r\n",
    "\n",
    "data.read()"
   ]
  },
  {
   "cell_type": "markdown",
   "id": "67e07896-c316-4d06-ab50-9178bc44dd16",
   "metadata": {},
   "source": [
    "# pyhdf"
   ]
  },
  {
   "cell_type": "code",
   "execution_count": 26,
   "id": "16ebbbb7-78d8-44c3-951f-82481ae1138f",
   "metadata": {},
   "outputs": [
    {
     "data": {
      "text/plain": [
       "{'long_name': '500m Surface Reflectance Band 1 - first layer',\n",
       " 'units': 'reflectance',\n",
       " 'valid_range': [-100, 16000],\n",
       " '_FillValue': -28672,\n",
       " 'add_offset': 0.0,\n",
       " 'add_offset_err': 0.0,\n",
       " 'calibrated_nt': 5,\n",
       " 'scale_factor': 10000.0,\n",
       " 'scale_factor_err': 0.0,\n",
       " 'Nadir Data Resolution': '500m'}"
      ]
     },
     "execution_count": 26,
     "metadata": {},
     "output_type": "execute_result"
    }
   ],
   "source": [
    "tile_sd = pyhdf.SD.SD(tile_name)\n",
    "sd = tile_sd.select('sur_refl_b01_1')\n",
    "#sd.attr('scale_factor').get()\n",
    "attributes = sd.attributes()\n",
    "attributes"
   ]
  },
  {
   "cell_type": "code",
   "execution_count": 52,
   "id": "ae3f54da-3705-4a83-ba20-2515008627f6",
   "metadata": {},
   "outputs": [
    {
     "data": {
      "text/plain": [
       "masked_array(\n",
       "  data=[[0.0004, 0.0036, 0.0036, ..., 0.1752, 0.0849, 0.1303],\n",
       "        [0.0005, 0.0039, 0.0039, ..., 0.133, 0.1568, 0.1391],\n",
       "        [-0.0002, -0.0002, -0.0002, ..., 0.1376, 0.218, 0.3349],\n",
       "        ...,\n",
       "        [0.0754, 0.0754, 0.0774, ..., 0.6179, 0.6179, 0.6399],\n",
       "        [0.0754, 0.0774, 0.0774, ..., 0.6179, 0.6355, 0.6355],\n",
       "        [0.0702, 0.0702, 0.0817, ..., 0.6082, 0.6082, 0.5835]],\n",
       "  mask=[[False, False, False, ..., False, False, False],\n",
       "        [False, False, False, ..., False, False, False],\n",
       "        [False, False, False, ..., False, False, False],\n",
       "        ...,\n",
       "        [False, False, False, ..., False, False, False],\n",
       "        [False, False, False, ..., False, False, False],\n",
       "        [False, False, False, ..., False, False, False]],\n",
       "  fill_value=1e+20)"
      ]
     },
     "execution_count": 52,
     "metadata": {},
     "output_type": "execute_result"
    }
   ],
   "source": [
    "import numpy\n",
    "data = sd.get()\n",
    "\n",
    "d = numpy.ma.array(data, mask=(data==-28672))\n",
    "d / sd.attributes()['scale_factor']"
   ]
  },
  {
   "cell_type": "code",
   "execution_count": null,
   "id": "e9d17e78-f139-478f-9058-43c30701296b",
   "metadata": {},
   "outputs": [],
   "source": [
    "# MOD09"
   ]
  },
  {
   "cell_type": "markdown",
   "id": "639df624-71c8-49b1-b14b-4fed30a36cd4",
   "metadata": {},
   "source": [
    "# GDAL"
   ]
  },
  {
   "cell_type": "code",
   "execution_count": 6,
   "id": "b7ad26a2-0768-4959-acc9-0fe576c665c1",
   "metadata": {},
   "outputs": [],
   "source": [
    "\n",
    "tile_gdal = gdal.Open(ds_string, gdal.GA_ReadOnly)\n",
    "metadata = tile_gdal.GetMetadata()"
   ]
  },
  {
   "cell_type": "code",
   "execution_count": 7,
   "id": "3ffe515d-0615-4139-9544-cf6c69c48f9c",
   "metadata": {},
   "outputs": [
    {
     "data": {
      "text/plain": [
       "array([[   0,   28,   28, ..., 1805,  918, 1332],\n",
       "       [  -1,   35,   35, ..., 1389, 1595, 1419],\n",
       "       [  -7,   -7,   -7, ..., 1403, 2189, 3363],\n",
       "       ...,\n",
       "       [ 758,  758,  778, ..., 6201, 6201, 6421],\n",
       "       [ 758,  778,  778, ..., 6201, 6378, 6378],\n",
       "       [ 709,  709,  820, ..., 6104, 6104, 5855]], dtype=int16)"
      ]
     },
     "execution_count": 7,
     "metadata": {},
     "output_type": "execute_result"
    }
   ],
   "source": [
    "trans = tile_gdal.GetGeoTransform()\n",
    "tile_gdal.GetProjection()\n",
    "tile_gdal.ReadAsArray()"
   ]
  },
  {
   "cell_type": "code",
   "execution_count": 8,
   "id": "0445f0f3-0638-414a-bb8f-0b88ee1ad545",
   "metadata": {},
   "outputs": [],
   "source": [
    "width = tile_gdal.RasterXSize\n",
    "height = tile_gdal.RasterYSize\n",
    "\n",
    "y_res = trans[5]\n",
    "x_res = trans[1]\n",
    "\n",
    "left = trans[0]\n",
    "right = left + tile_gdal.RasterXSize*width\n",
    "top = trans[3]\n",
    "bottom = top + tile_gdal.RasterYSize*height"
   ]
  },
  {
   "cell_type": "code",
   "execution_count": null,
   "id": "32534516-d762-4b7d-aa2d-9acde956b2bd",
   "metadata": {},
   "outputs": [],
   "source": []
  }
 ],
 "metadata": {
  "kernelspec": {
   "display_name": "Python 3 (ipykernel)",
   "language": "python",
   "name": "python3"
  },
  "language_info": {
   "codemirror_mode": {
    "name": "ipython",
    "version": 3
   },
   "file_extension": ".py",
   "mimetype": "text/x-python",
   "name": "python",
   "nbconvert_exporter": "python",
   "pygments_lexer": "ipython3",
   "version": "3.8.10"
  }
 },
 "nbformat": 4,
 "nbformat_minor": 5
}
