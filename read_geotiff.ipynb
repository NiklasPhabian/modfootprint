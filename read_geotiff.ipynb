{
 "cells": [
  {
   "cell_type": "code",
   "execution_count": 1,
   "id": "0bbe325d-2223-46c0-b7b7-68a316773764",
   "metadata": {},
   "outputs": [],
   "source": [
    "import rasterio\n",
    "import numpy\n",
    "import dask\n",
    "import sys\n",
    "import starepandas\n",
    "import pyproj\n",
    "import time\n",
    "import xarray\n",
    "import pystare\n",
    "import dask\n",
    "import dask.distributed\n",
    "import dask.diagnostics\n",
    "import pickle"
   ]
  },
  {
   "cell_type": "code",
   "execution_count": 2,
   "id": "1a98b491-6d71-4e79-892f-440715205c3e",
   "metadata": {},
   "outputs": [
    {
     "data": {
      "text/plain": [
       "{'connect': '600s', 'tcp': '600s'}"
      ]
     },
     "execution_count": 2,
     "metadata": {},
     "output_type": "execute_result"
    }
   ],
   "source": [
    "dask.config.set({'temporary-directory': '/tablespace/dask'})\n",
    "dask.config.set({'distributed.comm.timeouts.tcp':  '600s'})\n",
    "dask.config.set({'distributed.comm.timeouts.connect':  '600s'})\n",
    "dask.config.get('distributed.comm.timeouts')"
   ]
  },
  {
   "cell_type": "code",
   "execution_count": 3,
   "id": "561c31cb-71ac-4e11-98b7-b4ab1c745c1c",
   "metadata": {},
   "outputs": [],
   "source": [
    "file_path = '/tablespace/spires/binary_snowmaps/17DEC11190506binarySnow.tif'"
   ]
  },
  {
   "cell_type": "markdown",
   "id": "f18587d4-d899-4eda-90f3-36d27d10a681",
   "metadata": {},
   "source": [
    "# Loading Data"
   ]
  },
  {
   "cell_type": "code",
   "execution_count": 4,
   "id": "7230ccf7-0f03-4d11-b2b4-e52852658950",
   "metadata": {},
   "outputs": [
    {
     "name": "stdout",
     "output_type": "stream",
     "text": [
      "CPU times: user 4.43 s, sys: 5.03 s, total: 9.46 s\n",
      "Wall time: 9.65 s\n"
     ]
    }
   ],
   "source": [
    "%%time\n",
    "bands = None\n",
    "with rasterio.open(file_path) as src:\n",
    "    src_crs = src.crs\n",
    "    values = {}\n",
    "    if bands is None:\n",
    "        bands = range(1, src.count + 1)\n",
    "    for band in bands:\n",
    "        values[f'band_{band}'] = src.read(band)\n",
    "    height = values['band_1'].shape[0]\n",
    "    width = values['band_1'].shape[1]\n",
    "    transform = src.transform"
   ]
  },
  {
   "cell_type": "markdown",
   "id": "32660f95-cd43-48a0-9dd0-4907ad0aa00d",
   "metadata": {},
   "source": [
    "# Dask-Based transfrom and SIDS lookup"
   ]
  },
  {
   "cell_type": "code",
   "execution_count": null,
   "id": "7ec2018f-482e-46ee-b101-ad608f806e62",
   "metadata": {
    "tags": []
   },
   "outputs": [],
   "source": [
    "colrow = xarray.DataArray(numpy.meshgrid(numpy.arange(width, dtype='int32'), \n",
    "                                         numpy.arange(height, dtype='int32'), \n",
    "                                         copy=False)).chunk({'dim_1': 1000, 'dim_2': 1000})\n",
    "colrow"
   ]
  },
  {
   "cell_type": "markdown",
   "id": "63d3a896-9483-499d-b121-0ca3f9a5b990",
   "metadata": {},
   "source": [
    "## Gertting the native Coordinates"
   ]
  },
  {
   "cell_type": "code",
   "execution_count": null,
   "id": "58650007-0680-46dd-a304-5de63bd8c63c",
   "metadata": {},
   "outputs": [],
   "source": [
    "trans =  numpy.array([transform.a, transform.b, transform.c, transform.d, transform.e, transform.f], dtype='float64')\n",
    "\n",
    "def wrap_xy(colrow):\n",
    "    xs = colrow[0] * trans[0] + colrow[1] * trans[1] + trans[2] + trans[0]/2\n",
    "    ys = colrow[0] * trans[3] + colrow[1] * trans[4] + trans[5] + trans[4]/2\n",
    "    return numpy.array([xs, ys])\n",
    "\n",
    "xy = xarray.apply_ufunc(wrap_xy, colrow, dask=\"parallelized\", output_dtypes=['float64'])"
   ]
  },
  {
   "cell_type": "markdown",
   "id": "e8d6a476-fbab-489b-be63-8aee30fd10e0",
   "metadata": {},
   "source": [
    "## Transform to WGS84"
   ]
  },
  {
   "cell_type": "code",
   "execution_count": null,
   "id": "22a665f6-b1ac-4fe5-80b2-721164c82515",
   "metadata": {
    "tags": []
   },
   "outputs": [],
   "source": [
    "epsg_4326 = 'EPSG:4326'\n",
    "transformer = pyproj.Transformer.from_crs(src_crs, epsg_4326)\n",
    "\n",
    "def wrap_transform(coords):\n",
    "    return numpy.array(transformer.transform(coords[0], coords[1]), dtype='float64')\n",
    "\n",
    "coords = xarray.apply_ufunc(wrap_transform, xy, dask=\"parallelized\", output_dtypes=['float64'])"
   ]
  },
  {
   "cell_type": "markdown",
   "id": "4da2274d-a3a3-4140-b586-0ff1ef4a72cf",
   "metadata": {},
   "source": [
    "## Making Sids"
   ]
  },
  {
   "cell_type": "code",
   "execution_count": null,
   "id": "f684946b-dac4-41f4-acae-ad2502f84032",
   "metadata": {},
   "outputs": [],
   "source": [
    "sids = xarray.apply_ufunc(pystare.from_latlon_2d, coords[0], coords[1], dask=\"parallelized\", kwargs={'adapt_level': True})"
   ]
  },
  {
   "cell_type": "markdown",
   "id": "0c0d9e1e-ec84-4ad1-9137-a2fcb13075db",
   "metadata": {},
   "source": [
    "## Computing"
   ]
  },
  {
   "cell_type": "code",
   "execution_count": null,
   "id": "791d6278-84fc-4b69-ab62-6037f76ca69f",
   "metadata": {
    "tags": []
   },
   "outputs": [],
   "source": [
    "with dask.distributed.Client(n_workers=60, threads_per_worker=1, memory_limit='10GB', processes=True) as client:          \n",
    "    sids = sids.compute()\n",
    "sids"
   ]
  },
  {
   "cell_type": "code",
   "execution_count": null,
   "id": "f5a303b1-fcd3-41b8-9207-092d013ca524",
   "metadata": {},
   "outputs": [],
   "source": [
    "del colrow"
   ]
  },
  {
   "cell_type": "code",
   "execution_count": null,
   "id": "d94dd132-a759-4767-ae3d-d9d7bf00c8cd",
   "metadata": {},
   "outputs": [],
   "source": [
    "sids = xarray.DataArray.to_numpy(sids)"
   ]
  },
  {
   "cell_type": "code",
   "execution_count": null,
   "id": "998ecf53-9632-4226-b789-ae33aa06b186",
   "metadata": {},
   "outputs": [],
   "source": [
    "with open('/tablespace/spires/binary/2017-12-11_sids.pickle', 'wb') as f:\n",
    "    pickle.dump(sids, f)"
   ]
  },
  {
   "cell_type": "markdown",
   "id": "0964b5e6-4355-4a56-816e-f28f92e12144",
   "metadata": {},
   "source": [
    "# Make Dataframe"
   ]
  },
  {
   "cell_type": "code",
   "execution_count": 5,
   "id": "cc6eb8d0-0b63-473f-b9d5-a24ce30d9af2",
   "metadata": {},
   "outputs": [],
   "source": [
    "import starepandas\n",
    "import geopandas\n",
    "import pickle"
   ]
  },
  {
   "cell_type": "code",
   "execution_count": 6,
   "id": "59c8af73-1999-4159-8362-5fb68091d6ad",
   "metadata": {},
   "outputs": [],
   "source": [
    "with open('data/roi_4326_buffer_huge.pickle', 'rb') as f:\n",
    "    roi = pickle.load(f)\n",
    "roi_sids = roi.sids.iloc[0]"
   ]
  },
  {
   "cell_type": "code",
   "execution_count": 7,
   "id": "20ea5992-78c2-4d76-a29d-2a741a9ab07b",
   "metadata": {},
   "outputs": [],
   "source": [
    "with open('/tablespace/spires/binary_snowmaps/2017-12-11_sids.pickle', 'rb') as f:\n",
    "    sids = pickle.load(f)"
   ]
  },
  {
   "cell_type": "code",
   "execution_count": 8,
   "id": "86e51377-bc8b-4063-9d7c-2055b22bf1ff",
   "metadata": {},
   "outputs": [],
   "source": [
    "sdf = starepandas.STAREDataFrame({'sids': sids.flatten(), 'snow': values['band_1'].flatten()})"
   ]
  },
  {
   "cell_type": "code",
   "execution_count": 9,
   "id": "d010f90b-e654-427b-8e89-ecae60f2e792",
   "metadata": {},
   "outputs": [],
   "source": [
    "del sids, values"
   ]
  },
  {
   "cell_type": "code",
   "execution_count": 10,
   "id": "0b247a7c-150e-4218-9871-5265c5f76477",
   "metadata": {},
   "outputs": [
    {
     "name": "stdout",
     "output_type": "stream",
     "text": [
      "CPU times: user 3min 25s, sys: 4min 17s, total: 7min 43s\n",
      "Wall time: 16min 35s\n"
     ]
    }
   ],
   "source": [
    "%%time\n",
    "intersects = sdf.stare_intersects(roi_sids, n_partitions=1000)\n",
    "subset = sdf[intersects]\n",
    "subset.reset_index(drop=True, inplace=True)"
   ]
  },
  {
   "cell_type": "code",
   "execution_count": 11,
   "id": "ae8cfd48-9b84-4256-810f-bac93c0df402",
   "metadata": {},
   "outputs": [
    {
     "name": "stdout",
     "output_type": "stream",
     "text": [
      "<class 'starepandas.staredataframe.STAREDataFrame'>\n",
      "RangeIndex: 2972307454 entries, 0 to 2972307453\n",
      "Data columns (total 2 columns):\n",
      " #   Column  Dtype\n",
      "---  ------  -----\n",
      " 0   sids    int64\n",
      " 1   snow    uint8\n",
      "dtypes: int64(1), uint8(1)\n",
      "memory usage: 24.9 GB\n"
     ]
    }
   ],
   "source": [
    "subset.info()"
   ]
  },
  {
   "cell_type": "code",
   "execution_count": 12,
   "id": "d85daa56-0997-45ce-aa40-85c58119f07c",
   "metadata": {},
   "outputs": [],
   "source": [
    "with open('/tablespace/spires/binary_snowmaps/2017-12-11_clippedDF_huge.pickle', 'wb') as f:\n",
    "    pickle.dump(subset, f)"
   ]
  },
  {
   "cell_type": "code",
   "execution_count": null,
   "id": "c614a448-cdd3-43b0-ac25-4b4bca142155",
   "metadata": {},
   "outputs": [],
   "source": []
  }
 ],
 "metadata": {
  "kernelspec": {
   "display_name": "Python 3 (ipykernel)",
   "language": "python",
   "name": "python3"
  },
  "language_info": {
   "codemirror_mode": {
    "name": "ipython",
    "version": 3
   },
   "file_extension": ".py",
   "mimetype": "text/x-python",
   "name": "python",
   "nbconvert_exporter": "python",
   "pygments_lexer": "ipython3",
   "version": "3.8.10"
  }
 },
 "nbformat": 4,
 "nbformat_minor": 5
}
