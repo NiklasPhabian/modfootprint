{
 "cells": [
  {
   "cell_type": "markdown",
   "id": "85a0869d-776d-4261-be00-760e9d8c05d0",
   "metadata": {},
   "source": [
    "# Intro"
   ]
  },
  {
   "cell_type": "code",
   "execution_count": 1,
   "id": "cefa0cfb-d114-40e9-aad9-ebfe39f63dd8",
   "metadata": {},
   "outputs": [],
   "source": [
    "%matplotlib widget\n",
    "import starepandas\n",
    "import geopandas\n",
    "import modreaders\n",
    "import matplotlib.pyplot as plt\n",
    "import pickle\n",
    "import spires\n",
    "import numpy\n",
    "import pandas\n",
    "import scipy.io\n",
    "import pystare\n",
    "import time\n",
    "import shapely.wkb\n",
    "import postgis\n",
    "import sqlalchemy\n",
    "import contextily\n",
    "import multiprocessing\n",
    "import glob\n",
    "import copy\n",
    "import dask\n",
    "import logging"
   ]
  },
  {
   "cell_type": "code",
   "execution_count": 2,
   "id": "340f7ad6-59bf-4ded-b4eb-b62d50fc9a44",
   "metadata": {},
   "outputs": [
    {
     "data": {
      "text/plain": [
       "'0.6.6'"
      ]
     },
     "execution_count": 2,
     "metadata": {},
     "output_type": "execute_result"
    }
   ],
   "source": [
    "starepandas.__version__"
   ]
  },
  {
   "cell_type": "code",
   "execution_count": 3,
   "id": "0a6ca5f3-342a-4370-bdb6-36bd7bc8c211",
   "metadata": {},
   "outputs": [
    {
     "data": {
      "text/plain": [
       "{'tcp': '1200s', 'connect': '1200s'}"
      ]
     },
     "execution_count": 3,
     "metadata": {},
     "output_type": "execute_result"
    }
   ],
   "source": [
    "dask.config.set({'temporary-directory': '/tablespace/dask'})\n",
    "dask.config.set({'distributed.comm.timeouts.tcp': '1200s'})\n",
    "dask.config.set({'distributed.comm.timeouts.connect': '1200s'})\n",
    "dask.config.get('distributed.comm.timeouts')"
   ]
  },
  {
   "cell_type": "code",
   "execution_count": 4,
   "id": "61194c3b-73ee-4c54-ba20-c1b28e9d4fa7",
   "metadata": {},
   "outputs": [],
   "source": [
    "user = 'spires_rw'\n",
    "pwd = 'spiresrw'\n",
    "host= 'localhost'\n",
    "db_name = 'spires'\n",
    "uri = f'postgresql+psycopg2://{user}:{pwd}@{host}/{db_name}'\n",
    "\n",
    "engine = sqlalchemy.create_engine(uri)"
   ]
  },
  {
   "cell_type": "code",
   "execution_count": 5,
   "id": "0b4c1bd6-469e-43ac-b02e-7b3172780b7a",
   "metadata": {},
   "outputs": [],
   "source": [
    "mod09_bandnames = ['500m Surface Reflectance Band 1', \n",
    "                   '500m Surface Reflectance Band 2', \n",
    "                   '500m Surface Reflectance Band 3', \n",
    "                   '500m Surface Reflectance Band 4', \n",
    "                   '500m Surface Reflectance Band 5', \n",
    "                   '500m Surface Reflectance Band 6', \n",
    "                   '500m Surface Reflectance Band 7']\n",
    "\n",
    "mod09ga_bandnames = ['sur_refl_b01_1', \n",
    "                     'sur_refl_b02_1', \n",
    "                     'sur_refl_b03_1', \n",
    "                     'sur_refl_b04_1', \n",
    "                     'sur_refl_b05_1', \n",
    "                     'sur_refl_b06_1', \n",
    "                     'sur_refl_b07_1']\n",
    "\n",
    "vnp09_bandnames = ['750m Surface Reflectance Band M5', \n",
    "                   '750m Surface Reflectance Band M7',\n",
    "                   '750m Surface Reflectance Band M3',\n",
    "                   '750m Surface Reflectance Band M4',\n",
    "                   '750m Surface Reflectance Band M8',\n",
    "                   '750m Surface Reflectance Band M10',\n",
    "                   '750m Surface Reflectance Band M11']"
   ]
  },
  {
   "cell_type": "markdown",
   "id": "4f10fb8c-fe9c-4dde-8fe1-e84bb7bb7c03",
   "metadata": {},
   "source": [
    "# Loading Data"
   ]
  },
  {
   "cell_type": "markdown",
   "id": "c5272bf1-640a-4b92-8f4c-a92bafb073bc",
   "metadata": {},
   "source": [
    "## Loading ROI"
   ]
  },
  {
   "cell_type": "code",
   "execution_count": 6,
   "id": "9b1abd3d-d013-4eaf-9d10-c05b62e494b2",
   "metadata": {},
   "outputs": [
    {
     "name": "stderr",
     "output_type": "stream",
     "text": [
      "/tmp/ipykernel_3247591/2809272951.py:2: UserWarning: Unpickling a shapely <2.0 geometry object. Please save the pickle again; shapely 2.1 will not have this compatibility.\n",
      "  roi = pickle.load(f)\n"
     ]
    }
   ],
   "source": [
    "with open('data/roi_4326_huge.pickle', 'rb') as f:\n",
    "    roi = pickle.load(f)\n",
    "roi_sids = roi.sids.iloc[0]"
   ]
  },
  {
   "cell_type": "markdown",
   "id": "5497eea9-5622-4bef-b937-97191ecfec1b",
   "metadata": {},
   "source": [
    "## Loading Cells"
   ]
  },
  {
   "cell_type": "code",
   "execution_count": 7,
   "id": "4303e7bd-4608-48f1-b1cb-ff6cafcc9091",
   "metadata": {},
   "outputs": [],
   "source": [
    "cells = postgis.read('cells', con=engine)"
   ]
  },
  {
   "cell_type": "code",
   "execution_count": 8,
   "id": "c0931a41-2339-4765-8055-3ada04798a05",
   "metadata": {},
   "outputs": [],
   "source": [
    "cells = starepandas.STAREDataFrame(cells, sids='centers_sids')\n",
    "intersects = cells.to_stare_level(17, clear_to_level=True).stare_intersects(roi_sids)\n",
    "cells = cells[intersects]\n",
    "cells.reset_index(inplace=True, drop=True)"
   ]
  },
  {
   "cell_type": "markdown",
   "id": "a96f50ee-e103-4049-986b-987bbb5e9814",
   "metadata": {},
   "source": [
    "## Loading Worldview\n",
    "(Subsetted worldview binary snowmap) "
   ]
  },
  {
   "cell_type": "code",
   "execution_count": 9,
   "id": "c3d9feb2-6035-4d24-ba9a-112a42ae3109",
   "metadata": {},
   "outputs": [],
   "source": [
    "with open('/tablespace/spires/binary_snowmaps/2017-12-11_clippedDF_huge.pickle', 'rb') as f:\n",
    "    worldview_full = pickle.load(f)\n",
    "worldview_full = worldview_full.replace(2, 0)"
   ]
  },
  {
   "cell_type": "code",
   "execution_count": 10,
   "id": "2b660723-d9ab-4b4b-b78b-46f26772f8ee",
   "metadata": {},
   "outputs": [
    {
     "ename": "NameError",
     "evalue": "name 'sids' is not defined",
     "output_type": "error",
     "traceback": [
      "\u001b[0;31m---------------------------------------------------------------------------\u001b[0m",
      "\u001b[0;31mNameError\u001b[0m                                 Traceback (most recent call last)",
      "Cell \u001b[0;32mIn[10], line 2\u001b[0m\n\u001b[1;32m      1\u001b[0m worldview_19_groups \u001b[38;5;241m=\u001b[39m worldview_full\u001b[38;5;241m.\u001b[39mto_stare_level(\u001b[38;5;241m19\u001b[39m, clear_to_level\u001b[38;5;241m=\u001b[39m\u001b[38;5;28;01mTrue\u001b[39;00m)\u001b[38;5;241m.\u001b[39mgroupby(\u001b[38;5;124m'\u001b[39m\u001b[38;5;124msids\u001b[39m\u001b[38;5;124m'\u001b[39m)\n\u001b[0;32m----> 2\u001b[0m worldview_full[\u001b[38;5;124m'\u001b[39m\u001b[38;5;124msids_19\u001b[39m\u001b[38;5;124m'\u001b[39m] \u001b[38;5;241m=\u001b[39m \u001b[43msids\u001b[49m\n\u001b[1;32m      3\u001b[0m worldview_19_groups \u001b[38;5;241m=\u001b[39m worldview_full\u001b[38;5;241m.\u001b[39mgroupby(\u001b[38;5;124m'\u001b[39m\u001b[38;5;124msids_19\u001b[39m\u001b[38;5;124m'\u001b[39m)\n\u001b[1;32m      4\u001b[0m worldview_19 \u001b[38;5;241m=\u001b[39m worldview_19_groups[\u001b[38;5;124m'\u001b[39m\u001b[38;5;124msnow\u001b[39m\u001b[38;5;124m'\u001b[39m]\u001b[38;5;241m.\u001b[39msum()\u001b[38;5;241m.\u001b[39mastype(\u001b[38;5;28mfloat\u001b[39m) \u001b[38;5;241m/\u001b[39m worldview_19_groups[\u001b[38;5;124m'\u001b[39m\u001b[38;5;124msnow\u001b[39m\u001b[38;5;124m'\u001b[39m]\u001b[38;5;241m.\u001b[39mcount()\u001b[38;5;241m.\u001b[39mastype(\u001b[38;5;28mfloat\u001b[39m)\n",
      "\u001b[0;31mNameError\u001b[0m: name 'sids' is not defined"
     ]
    }
   ],
   "source": [
    "worldview_19_groups = worldview_full.to_stare_level(19, clear_to_level=True).groupby('sids')\n",
    "worldview_full['sids_19'] = sids\n",
    "worldview_19_groups = worldview_full.groupby('sids_19')\n",
    "worldview_19 = worldview_19_groups['snow'].sum().astype(float) / worldview_19_groups['snow'].count().astype(float)\n",
    "worldview_19 = worldview_19.reset_index(drop=False)\n",
    "worldview_19.rename(columns={'sids_19': 'sids'}, inplace=True)\n",
    "worldview_19 = worldview_19.set_sids('sids')\n",
    "#worldview_19.add_trixels(n_partitions=6400, inplace=True)"
   ]
  },
  {
   "cell_type": "code",
   "execution_count": null,
   "id": "b506ef36-2c16-4ee5-bc0f-fac75607f1cf",
   "metadata": {},
   "outputs": [],
   "source": [
    "worldview_19.info(memory_usage='deep')"
   ]
  },
  {
   "cell_type": "code",
   "execution_count": null,
   "id": "3ba95cf8-9a54-439b-81a8-cf3195b5726c",
   "metadata": {},
   "outputs": [],
   "source": [
    "worldview_18_groups = worldview_19.to_stare_level(18, clear_to_level=True).groupby('sids')\n",
    "worldview_18 =  worldview_18_groups['snow'].sum().astype(float) / worldview_18_groups['snow'].count().astype(float)\n",
    "worldview_18 = worldview_18.reset_index(drop=False)\n",
    "worldview_18 = worldview_18.set_sids('sids')"
   ]
  },
  {
   "cell_type": "code",
   "execution_count": null,
   "id": "a31fe0c7-ca76-409b-8028-d9134195e6bb",
   "metadata": {},
   "outputs": [],
   "source": [
    "worldview_14_groups = worldview_19.to_stare_level(14, clear_to_level=True).groupby('sids')\n",
    "worldview_14 =  worldview_14_groups['snow'].sum().astype(float) / worldview_14_groups['snow'].count().astype(float)\n",
    "worldview_14 = worldview_14.reset_index(drop=False)\n",
    "worldview_14 = worldview_14.set_sids('sids')\n",
    "worldview_14.add_trixels(n_partitions=320, inplace=True)\n",
    "worldview_14.set_geometry('trixels').to_file('worldview_trixels.gpkg', driver='GPKG')"
   ]
  },
  {
   "cell_type": "markdown",
   "id": "bf62306e-3e9f-4493-a4b3-45196c015d64",
   "metadata": {},
   "source": [
    "## Loading MOD09GA (Gridded)"
   ]
  },
  {
   "cell_type": "code",
   "execution_count": null,
   "id": "0934783c-ad0b-44fe-bd3f-455862f8ebc6",
   "metadata": {},
   "outputs": [],
   "source": [
    "import importlib\n",
    "importlib.reload(modreaders)"
   ]
  },
  {
   "cell_type": "code",
   "execution_count": null,
   "id": "e2d8bf5f-4848-4d8b-afe1-214ff7c3252d",
   "metadata": {},
   "outputs": [],
   "source": [
    "# Huge\n",
    "x_min = 1294\n",
    "x_max = 1430\n",
    "y_min = 532\n",
    "y_max = 619\n",
    "\n",
    "bbox = (x_min, x_max, y_min, y_max)"
   ]
  },
  {
   "cell_type": "code",
   "execution_count": null,
   "id": "8665f2fc-16b8-4282-904d-89816b7bf14a",
   "metadata": {},
   "outputs": [],
   "source": [
    "file_paths = ['/tablespace/spires/mod09ga/MOD09GA.A2017341.h08v05.006.2017345192347.hdf',  # 2017-12-08\n",
    "              '/tablespace/spires/mod09ga/MOD09GA.A2017342.h08v05.006.2017344025638.hdf', # 2017-12-08\n",
    "              '/tablespace/spires/mod09ga/MOD09GA.A2017344.h08v05.006.2017346030233.hdf', # 2017-12-10\n",
    "              '/tablespace/spires/mod09ga/MOD09GA.A2017345.h08v05.006.2017347024314.hdf', # 2017-12-11\n",
    "              '/tablespace/spires/mod09ga/MOD09GA.A2017346.h08v05.006.2017348030115.hdf', # 2017-12-12\n",
    "              '/tablespace/spires/mod09ga/MOD09GA.A2017347.h08v05.006.2017349025015.hdf'] # 2017-12-13\n",
    "\n",
    "mod09ga = []\n",
    "for file_path in file_paths:\n",
    "    mod09ga.append(modreaders.read_mod09ga(file_path, bbox, sidecar_path='data/h08v05_stare.nc'))\n",
    "    \n",
    "mod09ga = pandas.concat(mod09ga)\n",
    "mod09ga.reset_index(drop=True, inplace=True)\n",
    "\n",
    "mod09ga = mod09ga[mod09ga.to_stare_level(17, clear_to_level=True).stare_intersects(roi_sids, n_partitions=64)]\n",
    "mod09ga = mod09ga.add_trixels(n_partitions=6400, num_workers=64)\n",
    "mod09ga['points']= geopandas.points_from_xy(mod09ga.lon, mod09ga.lat, crs=4326)"
   ]
  },
  {
   "cell_type": "markdown",
   "id": "a53fdeb9-d24a-48d2-8fbf-cc78e71146bf",
   "metadata": {},
   "source": [
    "## Loading MOD09 data"
   ]
  },
  {
   "cell_type": "code",
   "execution_count": null,
   "id": "38687959-b6ac-4912-9741-e48504c108ca",
   "metadata": {},
   "outputs": [],
   "source": [
    "def add_ndvi(df):\n",
    "    ndvi = (df['500m Surface Reflectance Band 2'] - df['500m Surface Reflectance Band 1'])/(df['500m Surface Reflectance Band 2'] + df['500m Surface Reflectance Band 1'])\n",
    "    df['ndvi'] = ndvi\n",
    "    \n",
    "def add_ndsi(df):\n",
    "    ndsi = (df['500m Surface Reflectance Band 4'] - df['500m Surface Reflectance Band 6'])/(df['500m Surface Reflectance Band 4'] + df['500m Surface Reflectance Band 6'])\n",
    "    df['ndsi'] = ndsi"
   ]
  },
  {
   "cell_type": "code",
   "execution_count": null,
   "id": "2d2c8c07-9518-4580-a66a-d192f44d594c",
   "metadata": {
    "tags": []
   },
   "outputs": [],
   "source": [
    "with open('/tablespace/spires/mod09.pickle', 'rb') as f:\n",
    "    mod09 = pickle.load(f)\n",
    "\n",
    "add_ndsi(mod09)\n",
    "add_ndvi(mod09)\n",
    "mod09 = mod09.rename(columns={'x': 'scan_pos', 'y': 'track_pos'})\n",
    "mod09['sids'] = mod09['sids'].astype('Int64')"
   ]
  },
  {
   "cell_type": "code",
   "execution_count": null,
   "id": "3efc95e1-2227-486d-a266-07d1f6e5db7f",
   "metadata": {
    "tags": []
   },
   "outputs": [],
   "source": [
    "mod09 = mod09[mod09.modland_qa==0]\n",
    "mod09.reset_index(inplace=True, drop=True)"
   ]
  },
  {
   "cell_type": "code",
   "execution_count": null,
   "id": "26220c3c-a6d9-4007-a1d0-c7af506385c8",
   "metadata": {},
   "outputs": [],
   "source": [
    "mod09.info()"
   ]
  },
  {
   "cell_type": "markdown",
   "id": "d5cd5d24-cbf5-443f-85fa-e1b4b0aecdeb",
   "metadata": {},
   "source": [
    "### Subsetting to Day"
   ]
  },
  {
   "cell_type": "code",
   "execution_count": null,
   "id": "608716ca-4436-4d8f-a608-f9ef93e4ece6",
   "metadata": {
    "tags": []
   },
   "outputs": [],
   "source": [
    "mod09.set_index('ts_start', inplace=True)\n",
    "mod09.sort_index(inplace=True)\n",
    "#mod09_day = copy.copy(pandas.concat([mod09.loc['2017-12-07':'2017-12-08'], mod09.loc['2017-12-10':'2017-12-12']]))\n",
    "mod09_day = copy.copy(pandas.concat([mod09.loc['2017-12-07':'2017-12-13']]))\n",
    "mod09.reset_index(inplace=True)\n",
    "mod09_day.reset_index(inplace=True)"
   ]
  },
  {
   "cell_type": "markdown",
   "id": "1116b170-b405-4595-94cd-bd560694f3b6",
   "metadata": {},
   "source": [
    "### Add ellipse and circles"
   ]
  },
  {
   "cell_type": "code",
   "execution_count": null,
   "id": "b31b3071-f04e-4e2f-aee1-a3a3cfb17032",
   "metadata": {
    "tags": []
   },
   "outputs": [],
   "source": [
    "%%time\n",
    "ellipse_sids = starepandas.io.granules.modis.make_ellipse_sids(mod09_day, n_partitions=1024, level=19, crs=3310, modis_resolution=500)\n",
    "mod09_day['ellipse_sids'] = ellipse_sids\n",
    "\n",
    "r_circle = 500\n",
    "r_earth = 6378137\n",
    "phi = r_circle /2/3.14/r_earth*360\n",
    "\n",
    "circle_sids = starepandas.make_circular_sids(mod09_day, level=19, diameter=phi, n_partitions=1024)\n",
    "mod09_day['circle_sids'] = circle_sids"
   ]
  },
  {
   "cell_type": "code",
   "execution_count": null,
   "id": "cb756df3-ebc1-4236-9b61-9b6d97a8de74",
   "metadata": {},
   "outputs": [],
   "source": [
    "mod09_day['circle_trixels'] = mod09_day.set_sids('circle_sids').make_trixels(n_partitions=1024)\n",
    "mod09_day['ellipse_trixels'] = mod09_day.set_sids('ellipse_sids').make_trixels(n_partitions=1024)\n",
    "mod09_day[['ts_start', 'ellipse_trixels']].set_geometry('ellipse_trixels').to_file('ellipses.gpkg', driver='GPKG')\n",
    "#mod09_day.set_trixels('ellipse_trixels').plot(linewidth=0.1)"
   ]
  },
  {
   "cell_type": "markdown",
   "id": "4714a8ab-608e-4903-9942-235b6b96024a",
   "metadata": {},
   "source": [
    "## Loading VNP09 Data"
   ]
  },
  {
   "cell_type": "code",
   "execution_count": null,
   "id": "5709e3bc-c411-4101-a742-842942490133",
   "metadata": {},
   "outputs": [],
   "source": [
    "with open('/tablespace/spires/vnp09.pickle', 'rb') as f:\n",
    "    vnp09 = pickle.load(f)\n",
    "    \n",
    "vnp09.sort_values('ts_start', inplace=True)\n",
    "vnp09.set_index('ts_start', inplace=True)\n",
    "vnp09_day = copy.copy(vnp09.loc['2017-12-07':'2017-12-13'])\n",
    "vnp09_day.reset_index(inplace=True)\n",
    "vnp09.reset_index(inplace=True)\n",
    "\n",
    "def add_ndvi(df):\n",
    "    ndvi = (df['750m Surface Reflectance Band M7'] - df['750m Surface Reflectance Band M5'])/(df['750m Surface Reflectance Band M7'] + df['750m Surface Reflectance Band M5'])\n",
    "    df['ndvi'] = ndvi\n",
    "    \n",
    "def add_ndsi(df):\n",
    "    ndsi = (df['750m Surface Reflectance Band M4'] - df['750m Surface Reflectance Band M10'])/(df['750m Surface Reflectance Band M4'] + df['750m Surface Reflectance Band M10'])\n",
    "    df['ndsi'] = ndsi\n",
    "\n",
    "add_ndsi(vnp09)\n",
    "add_ndvi(vnp09)"
   ]
  },
  {
   "cell_type": "code",
   "execution_count": null,
   "id": "d0f21538-4338-4e7a-8929-221c0acc8429",
   "metadata": {},
   "outputs": [],
   "source": [
    "r_circle = 750\n",
    "r_earth = 6378137\n",
    "phi = r_circle /2/3.14/r_earth*360\n",
    "\n",
    "circle_sids = starepandas.make_circular_sids(vnp09_day, level=19, diameter=phi, n_partitions=1024)\n",
    "vnp09_day['circle_sids'] = circle_sids"
   ]
  },
  {
   "cell_type": "code",
   "execution_count": null,
   "id": "8b3f292f-a851-4688-9e37-e441f8dd1cce",
   "metadata": {},
   "outputs": [],
   "source": [
    "pts = geopandas.points_from_xy(vnp09_day.lon, vnp09_day.lat, crs=4326)\n",
    "vnp09_day['center_point'] = pts"
   ]
  },
  {
   "cell_type": "markdown",
   "id": "45d86578-329e-4fae-8b9f-fb4fcece988c",
   "metadata": {},
   "source": [
    "## Verify Overlap"
   ]
  },
  {
   "cell_type": "code",
   "execution_count": null,
   "id": "a6b3998b-d16a-4c1a-8eb1-50b106de2db0",
   "metadata": {},
   "outputs": [],
   "source": [
    "fig = plt.figure(figsize=(5, 5), dpi=100)\n",
    "ax = fig.add_subplot()\n",
    "\n",
    "cells.set_geometry('polygons_4326').exterior.plot(ax=ax, linewidth=0.5)\n",
    "mod09[0:10000].set_geometry('center_point').plot(ax=ax, trixels=False, markersize=0.1, color='red')\n",
    "vnp09_day[0:10000].set_geometry('center_point').plot(ax=ax, trixels=False, markersize=0.1, color='green')\n",
    "worldview_14.plot(ax=ax, trixels=True, linewidth=0.5, color='black')\n",
    "mod09ga.set_geometry('trixels').plot(ax=ax, color='magenta', linewidth=1, zorder=10)\n",
    "roi.plot(ax=ax, color='green', linewidth=0.5)\n",
    "\n",
    "contextily.add_basemap(ax, source=contextily.providers.OpenStreetMap.Mapnik, crs=4326)"
   ]
  },
  {
   "cell_type": "code",
   "execution_count": null,
   "id": "b62ba6d8-a92e-43f8-8e8e-b689d8aa81c5",
   "metadata": {},
   "outputs": [],
   "source": [
    "fig = plt.figure(figsize=(12, 4), dpi=100)\n",
    "ax = fig.add_subplot()\n",
    "\n",
    "max_elipse = copy.copy(mod09_day[mod09_day['SensorZenith'] == mod09_day['SensorZenith'].max()][0:2])\n",
    "max_elipse.set_sids('circle_sids').add_trixels().plot(ax=ax, linewidth=0.1, color='magenta')\n",
    "max_elipse.set_sids('ellipse_sids').add_trixels().plot(ax=ax, linewidth=0.1)\n",
    "max_elipse.set_sids('sids14').add_trixels().plot(ax=ax, color='green')\n",
    "max_elipse.set_sids('sids14').add_trixels().plot(ax=ax, color='green')\n",
    "max_elipse.set_sids('sids15').add_trixels().plot(ax=ax, color='green')\n",
    "max_elipse.set_sids('sids16').add_trixels().plot(ax=ax, color='green')\n",
    "max_elipse.set_sids('sids17').add_trixels().plot(ax=ax, color='green')\n",
    "max_elipse.set_sids('sids18').add_trixels().plot(ax=ax, color='green')\n",
    "max_elipse.add_trixels().plot(ax=ax, color='red', zorder=1)\n",
    "max_elipse.center_point.plot(ax=ax, color='red', zorder=1)\n",
    "contextily.add_basemap(ax, source=contextily.providers.OpenStreetMap.Mapnik, crs=4326)"
   ]
  },
  {
   "cell_type": "code",
   "execution_count": null,
   "id": "50b5ac24-307b-4260-a093-a709ef9c9a21",
   "metadata": {},
   "outputs": [],
   "source": [
    "total_terra_time = (mod09['ts_start'].max() - mod09['ts_start'].min()).days\n",
    "total_terra_time"
   ]
  },
  {
   "cell_type": "markdown",
   "id": "7bb78694-fd0c-46c1-8680-2e1878931c89",
   "metadata": {},
   "source": [
    "## Load lut"
   ]
  },
  {
   "cell_type": "code",
   "execution_count": null,
   "id": "81824963-5991-4ae0-ba46-aeda411326df",
   "metadata": {},
   "outputs": [],
   "source": [
    "lut = spires.load_lut('data/LUT_MODIS.mat')"
   ]
  },
  {
   "cell_type": "markdown",
   "id": "0abcb837-e22f-43f4-9821-bd6a4aebf653",
   "metadata": {},
   "source": [
    "## Load R0"
   ]
  },
  {
   "cell_type": "code",
   "execution_count": null,
   "id": "ed9084c8-a204-4ee9-9de4-cc4614e43e41",
   "metadata": {},
   "outputs": [],
   "source": [
    "r0_files = sorted(glob.glob('/tablespace/spires/r0/r0_*.pickle'))\n",
    "\n",
    "r0 = {}\n",
    "\n",
    "for file_name in r0_files:    \n",
    "    ds_name = file_name.split('/')[-1].split('r0_')[1].split('.pickle')[0]\n",
    "    with open(file_name, 'rb') as f:\n",
    "        data = pickle.load(f)\n",
    "    r0[ds_name] = data"
   ]
  },
  {
   "cell_type": "code",
   "execution_count": null,
   "id": "10da702b-1f62-46bf-8d49-bb05932ea2e2",
   "metadata": {},
   "outputs": [],
   "source": [
    "r0_files = sorted(glob.glob('/tablespace/spires/r0/vnp/r0_*.pickle'))\n",
    "\n",
    "r0_vnp = {}\n",
    "\n",
    "for file_name in r0_files:    \n",
    "    ds_name = file_name.split('/')[-1].split('r0_')[1].split('.pickle')[0]\n",
    "    with open(file_name, 'rb') as f:\n",
    "        data = pickle.load(f)\n",
    "    r0_vnp[ds_name] = data"
   ]
  },
  {
   "cell_type": "markdown",
   "id": "5be6df7b-50f3-4d4f-8c21-96001f854d09",
   "metadata": {},
   "source": [
    "# Run spires"
   ]
  },
  {
   "cell_type": "markdown",
   "id": "a9ec1e28-379a-4f20-8e2a-9d21cda0eec3",
   "metadata": {
    "tags": []
   },
   "source": [
    "## Merging Frames"
   ]
  },
  {
   "cell_type": "code",
   "execution_count": null,
   "id": "4530579e-2199-42f8-8e3c-a2bb9ef5f82e",
   "metadata": {},
   "outputs": [],
   "source": [
    "mod09ga_small = mod09ga[['ts_start', 'x', 'y', 'cloud_shadow', 'cloud_internal', 'modland_qa', 'cloud'] + mod09ga_bandnames]\n",
    "mod09_small = mod09_day[mod09_bandnames + ['scan_pos','SolarZenith', 'SensorAzimuth', 'circle_sids', 'ellipse_sids', 'sids','center_point', 'cloud_internal', 'ellipse_trixels', 'circle_trixels']]\n",
    "\n",
    "cells_small = cells[['x','y','sids_covers_19']]\n",
    "r0_grid2019_small = r0['grid_2019'][mod09ga_bandnames + ['x', 'y']]\n",
    "r0_grid_small = r0['grid'][mod09ga_bandnames + ['x', 'y']]"
   ]
  },
  {
   "cell_type": "code",
   "execution_count": null,
   "id": "4303fe52-f990-46a4-8364-b910c51b5b5a",
   "metadata": {},
   "outputs": [],
   "source": [
    "merged = pandas.merge(mod09ga_small, mod09_small, how='left', \n",
    "                      left_on=mod09ga_bandnames,\n",
    "                      right_on=mod09_bandnames,\n",
    "                      suffixes=('', '_mod09'))\n",
    "\n",
    "merged = pandas.merge(merged, cells_small, how='left',\n",
    "                      left_on=['x', 'y'],\n",
    "                      right_on=['x', 'y'],\n",
    "                      suffixes=('', '_cell'))\n",
    "\n",
    "merged = pandas.merge(merged, r0_grid2019_small,  how='left',\n",
    "                      left_on=['x', 'y'],\n",
    "                      right_on=['x', 'y'],\n",
    "                      suffixes=['', '_r0_2019'])\n",
    "    \n",
    "merged = pandas.merge(merged, r0_grid_small,  how='left',\n",
    "                      left_on=['x', 'y'],\n",
    "                      right_on=['x', 'y'],\n",
    "                      suffixes=['', '_r0_grid'])\n",
    "\n",
    "merged.dropna(inplace=True)\n",
    "#merged.drop_duplicates(mod09ga_bandnames, inplace=True)"
   ]
  },
  {
   "cell_type": "code",
   "execution_count": null,
   "id": "a4b481cb-de20-4564-932a-40ce6b23e25b",
   "metadata": {},
   "outputs": [],
   "source": [
    "merged.info()"
   ]
  },
  {
   "cell_type": "markdown",
   "id": "c37490c7-e6a5-472a-b564-2f2f05ca9615",
   "metadata": {},
   "source": [
    "## Function definitions"
   ]
  },
  {
   "cell_type": "code",
   "execution_count": null,
   "id": "0b8e7b9b-5ce2-4cf0-b302-ff0921e4c45c",
   "metadata": {},
   "outputs": [],
   "source": [
    "def find_ifov(ifovs, spectrum):\n",
    "    if isinstance(spectrum, pandas.core.frame.DataFrame):   \n",
    "        spectrum = [spectrum['sur_refl_b01_1'], spectrum['sur_refl_b02_1'], spectrum['sur_refl_b03_1'], spectrum['sur_refl_b04_1'], \n",
    "                    spectrum['sur_refl_b05_1'], spectrum['sur_refl_b06_1'], spectrum['sur_refl_b07_1']]\n",
    "    rows = ifovs[(numpy.isclose(ifovs['500m Surface Reflectance Band 1'], spectrum[0])) & \n",
    "                 (numpy.isclose(ifovs['500m Surface Reflectance Band 2'], spectrum[1])) & \n",
    "                 (numpy.isclose(ifovs['500m Surface Reflectance Band 3'], spectrum[2])) & \n",
    "                 (numpy.isclose(ifovs['500m Surface Reflectance Band 4'], spectrum[3])) & \n",
    "                 (numpy.isclose(ifovs['500m Surface Reflectance Band 5'], spectrum[4])) & \n",
    "                 (numpy.isclose(ifovs['500m Surface Reflectance Band 6'], spectrum[5])) & \n",
    "                 (numpy.isclose(ifovs['500m Surface Reflectance Band 7'], spectrum[6])) ]\n",
    "    return rows\n",
    "\n",
    "def spectrum(df):    \n",
    "    spectrum = df[['500m Surface Reflectance Band 1', \n",
    "                   '500m Surface Reflectance Band 2',\n",
    "                   '500m Surface Reflectance Band 3',\n",
    "                   '500m Surface Reflectance Band 4',\n",
    "                   '500m Surface Reflectance Band 5',\n",
    "                   '500m Surface Reflectance Band 6',\n",
    "                   '500m Surface Reflectance Band 7']].to_numpy()[0]\n",
    "    return spectrum\n",
    "\n",
    "def vnp_spectrum(df):    \n",
    "    spectrum = df[['750m Surface Reflectance Band M5', \n",
    "                   '750m Surface Reflectance Band M7',\n",
    "                   '750m Surface Reflectance Band M3',\n",
    "                   '750m Surface Reflectance Band M4',\n",
    "                   '750m Surface Reflectance Band M8',\n",
    "                   '750m Surface Reflectance Band M10',\n",
    "                   '750m Surface Reflectance Band M11']].to_numpy()\n",
    "    return spectrum"
   ]
  },
  {
   "cell_type": "code",
   "execution_count": null,
   "id": "9b218412-527e-4916-bf4b-a4bc35be7c77",
   "metadata": {},
   "outputs": [],
   "source": [
    "def speedy_invert(lut, r, r0, solar_z):        \n",
    "    result = {}    \n",
    "    \n",
    "    shade = numpy.zeros(7)    \n",
    "    res, model_refl = spires.speedy_invert(lut, r, r0, solar_z, shade, mode=4)\n",
    "    result['fsca'] = res.x[0]\n",
    "    result['fshade'] = res.x[1]\n",
    "    result['rg'] = res.x[2]\n",
    "    result['dust'] = res.x[3]\n",
    "    return result\n",
    "\n",
    "def get_ground_truth(sids, worldview):    \n",
    "    gt = starepandas.speedy_subset(worldview, sids)\n",
    "    if gt.empty:\n",
    "        return None\n",
    "    else:\n",
    "        return  gt['snow'].sum() / gt['snow'].count()    "
   ]
  },
  {
   "cell_type": "code",
   "execution_count": null,
   "id": "142e514a-9af1-4adf-a2e7-fe2baf1edff8",
   "metadata": {},
   "outputs": [],
   "source": [
    "def compute_cells(row, worldview, lut):    \n",
    "    solar_z = row.SolarZenith\n",
    "    r = row[mod09_bandnames].to_numpy()\n",
    "    sids_cell = row['sids_covers_19']\n",
    "    sids_circle = row['circle_sids']\n",
    "    sids_ellipse = row['ellipse_sids']\n",
    "        \n",
    "    r0_2019 = row[(s + '_r0_2019' for s in mod09ga_bandnames)].to_numpy()\n",
    "    r0_grid = row[(s + '_r0_grid' for s in mod09ga_bandnames)].to_numpy()    \n",
    "            \n",
    "    res_2019 = speedy_invert(lut, r, r0_2019, solar_z)\n",
    "    res_grid = speedy_invert(lut, r, r0_grid, solar_z)\n",
    "        \n",
    "    gt_circle = get_ground_truth(sids_circle, worldview) \n",
    "    gt_ellipse = get_ground_truth(sids_ellipse, worldview)\n",
    "    gt_cell = get_ground_truth(sids_cell, worldview)\n",
    "    \n",
    "    results = {'2019': res_2019, \n",
    "               'grid': res_grid, \n",
    "               'gt_cell': gt_cell,\n",
    "               'gt_circle': gt_circle, \n",
    "               'gt_ellipse': gt_ellipse}\n",
    "    results = pandas.json_normalize(results, sep='_').iloc[0]\n",
    "    return results"
   ]
  },
  {
   "cell_type": "code",
   "execution_count": null,
   "id": "ce072628-0cc2-4461-9218-cb1db8f2d5b7",
   "metadata": {},
   "outputs": [],
   "source": [
    "def compute_stare(row, lut, r0_stare):       \n",
    "    level = pystare.spatial_resolution(r0_stare.sids).max()    \n",
    "    \n",
    "    scan_pos = row.scan_pos\n",
    "    solar_z = row.SolarZenith\n",
    "    r = row[mod09_bandnames].to_numpy()\n",
    "    \n",
    "    row_sid = pystare.spatial_coerce_resolution(row.sids, level)\n",
    "    row_sid = pystare.spatial_clear_to_resolution(row_sid)\n",
    "        \n",
    "    try:\n",
    "        candidates = r0_stare[r0_stare.stare_intersects(row_sid)]                        \n",
    "        r0_best = candidates.iloc[(candidates.scan_pos-scan_pos).abs().argsort().iloc[:1]]        \n",
    "        r0_best = r0_best[mod09_bandnames].to_numpy()[0]        \n",
    "    except:        \n",
    "        print(row.x, row.y)        \n",
    "        return pandas.DataFrame({'stare_fsca': [None], 'stare_fshade': [None], 'stare_rg': [None], 'stare_dust': None}).iloc[0]\n",
    "        \n",
    "    res_stare = speedy_invert(lut, r, r0_best, solar_z)\n",
    "    \n",
    "    results = {'stare': res_stare}    \n",
    "    results = pandas.json_normalize(results, sep='_').iloc[0]\n",
    "    return results"
   ]
  },
  {
   "cell_type": "code",
   "execution_count": null,
   "id": "40d1865f-0cfd-4ea6-a072-54989628fe2f",
   "metadata": {},
   "outputs": [],
   "source": [
    "def compute_vnp(row, lut, r0_stare, worldview):    \n",
    "    level = pystare.spatial_resolution(r0_stare.sids).max()    \n",
    "    sids_circle = row['circle_sids']\n",
    "    \n",
    "    scan_pos = row.scan_pos\n",
    "    solar_z = row.solar_zenith\n",
    "    r = row[vnp09_bandnames].to_numpy()\n",
    "            \n",
    "    row_sid = pystare.spatial_coerce_resolution(row.sids, level)\n",
    "    row_sid = pystare.spatial_clear_to_resolution(row_sid)\n",
    "        \n",
    "    try:\n",
    "        candidates = r0_stare[r0_stare.stare_intersects(row_sid)]                        \n",
    "        r0_best = candidates.iloc[(candidates.scan_pos-scan_pos).abs().argsort().iloc[:1]]        \n",
    "        try:\n",
    "            r0_best = r0_best[vnp09_bandnames].to_numpy()[0]\n",
    "        except:\n",
    "            r0_best = r0_best[mod09_bandnames].to_numpy()[0]\n",
    "    except:        \n",
    "        print(row.index)        \n",
    "        return pandas.DataFrame({'stare_fsca': [None], 'stare_fshade': [None], 'stare_rg': [None], 'stare_dust': None, 'gt': None}).iloc[0]\n",
    "    \n",
    "    gt_circle = get_ground_truth(sids_circle, worldview) \n",
    "        \n",
    "    res_stare = speedy_invert(lut, r, r0_best, solar_z)\n",
    "    \n",
    "    results = {'stare': res_stare}    \n",
    "    results = pandas.json_normalize(results, sep='_').iloc[0]\n",
    "    results['gt'] = gt_circle\n",
    "    return results    "
   ]
  },
  {
   "cell_type": "markdown",
   "id": "6050682a-0597-4583-bde1-7d271e83a335",
   "metadata": {},
   "source": [
    "## Execute SingleCore "
   ]
  },
  {
   "cell_type": "code",
   "execution_count": null,
   "id": "61355731-f4df-49e3-98e0-7fcaffe09e48",
   "metadata": {
    "tags": []
   },
   "outputs": [],
   "source": [
    "%%time \n",
    "#s = merged[100:101].apply(compute_stare, axis=1, r0_stare=r0['stare14_1'], lut=lut)\n",
    "#v = vnp09_day[0:1].apply(compute_vnp, axis=1, r0_stare=r0_vnp['vnp_stare15_1'], lut=lut, worldview=worldview_19)\n",
    "v = vnp09_day[0:1].apply(compute_vnp, axis=1, r0_stare=r0['stare15_1'], lut=lut, worldview=worldview_19)\n",
    "#c = merged[100:110].apply(compute_cells, axis=1, worldview=worldview_19, lut=lut)\n",
    "v"
   ]
  },
  {
   "cell_type": "markdown",
   "id": "333068fd-521c-4c09-8bd5-e2a0339aab44",
   "metadata": {
    "tags": []
   },
   "source": [
    "## Dask\n",
    "lsof -i :9895\n",
    "\n",
    "Port forward to get to the dashboard\n",
    "\n",
    "    ssh -N -L 8001:localhost:8787 schiss.eri.ucsb.edu"
   ]
  },
  {
   "cell_type": "code",
   "execution_count": null,
   "id": "5ea6fd19-bda1-49ab-9295-e332b3461584",
   "metadata": {
    "tags": []
   },
   "outputs": [],
   "source": [
    "cluster = dask.distributed.LocalCluster(n_workers=64, threads_per_worker=1, memory_limit='5GB', processes=True, dashboard_address='localhost:8787', silence_logs=logging.ERROR)"
   ]
  },
  {
   "cell_type": "code",
   "execution_count": null,
   "id": "5ce4d109-6329-45e5-b555-4f3ff205c391",
   "metadata": {},
   "outputs": [],
   "source": [
    "ddf = dask.dataframe.from_pandas(merged, npartitions=512)\n",
    "lut_delayed = dask.delayed(lut)\n",
    "worldview_delayed = dask.delayed(worldview_19)"
   ]
  },
  {
   "cell_type": "markdown",
   "id": "a8d4c328-79a9-4f13-b266-d894d6fb979e",
   "metadata": {
    "tags": []
   },
   "source": [
    "### Cells"
   ]
  },
  {
   "cell_type": "code",
   "execution_count": null,
   "id": "c3d60c2b-2079-4976-a209-ad44aa8b3d8f",
   "metadata": {
    "tags": []
   },
   "outputs": [],
   "source": [
    "%%time\n",
    "meta={'gt_cell':     numpy.float64,\n",
    "      'gt_circle':   numpy.float64,\n",
    "      'gt_ellipse':  numpy.float64,\n",
    "      '2019_fsca':   numpy.float64,\n",
    "      '2019_fshade': numpy.float64,\n",
    "      '2019_rg' :    numpy.float64,\n",
    "      '2019_dust':   numpy.float64,\n",
    "      'grid_fsca':   numpy.float64,\n",
    "      'grid_fshade': numpy.float64,\n",
    "      'grid_rg':     numpy.float64,\n",
    "      'grid_dust':   numpy.float64}\n",
    "\n",
    "res = ddf.apply(compute_cells, axis=1, meta=meta, worldview=worldview_delayed, lut=lut_delayed)\n",
    "\n",
    "with dask.distributed.Client(cluster, timeout=1200) as client:              \n",
    "    fsca_cell = res.compute()"
   ]
  },
  {
   "cell_type": "markdown",
   "id": "7f317bb6-1048-4a62-b224-c3987ba728cc",
   "metadata": {},
   "source": [
    "### MODIS"
   ]
  },
  {
   "cell_type": "code",
   "execution_count": null,
   "id": "f984f785-de65-4d7d-92a0-be23521686a5",
   "metadata": {
    "tags": []
   },
   "outputs": [],
   "source": [
    "meta = {'stare_fsca':   numpy.float64,\n",
    "        'stare_fshade': numpy.float64,\n",
    "        'stare_rg':     numpy.float64,\n",
    "        'stare_dust':   numpy.float64}\n",
    "\n",
    "ddf = dask.dataframe.from_pandas(merged, npartitions=1024)\n",
    "\n",
    "def run(r0_string):    \n",
    "    r0_stare = r0[r0_string]\n",
    "    res = ddf.apply(compute_stare, axis=1, meta=meta, r0_stare=r0_stare, lut=lut_delayed)\n",
    "    with dask.distributed.Client(cluster) as client:              \n",
    "        res = res.compute()\n",
    "    return res    "
   ]
  },
  {
   "cell_type": "code",
   "execution_count": null,
   "id": "300fff05-2fd8-4184-a6bd-ce39c7eed35f",
   "metadata": {
    "tags": []
   },
   "outputs": [],
   "source": [
    "%%time\n",
    "\n",
    "fsca_stare_modis = {}\n",
    "for r0_string in sorted(r0.keys()):\n",
    "    print(r0_string)\n",
    "    if 'stare' not in r0_string:\n",
    "        continue        \n",
    "    fsca_stare_modis[r0_string] = run(r0_string)"
   ]
  },
  {
   "cell_type": "code",
   "execution_count": null,
   "id": "ecd7e81c-1b67-4176-a1de-0712faf1fa20",
   "metadata": {},
   "outputs": [],
   "source": [
    "plt.rcParams.update({\n",
    "    \"text.usetex\": False,\n",
    "    \"font.family\": \"monospace\",\n",
    "    \"font.size\"   : 13\n",
    "})"
   ]
  },
  {
   "cell_type": "code",
   "execution_count": null,
   "id": "9372774b-26ff-4bfa-ac61-19dee2c74465",
   "metadata": {},
   "outputs": [],
   "source": [
    "fig = plt.figure(figsize=(16, 9), dpi=100)\n",
    "ax = fig.add_subplot()\n",
    "plt.subplots_adjust(left=0.05, bottom=0.2, right=0.95, top=0.95, wspace=0, hspace=0)\n",
    "\n",
    "fsca = pandas.DataFrame()\n",
    "\n",
    "fsca['2019_vs_cell'] = fsca_cell['2019_fsca'] - fsca_cell['gt_cell']\n",
    "fsca['2019_vs_circle'] = fsca_cell['2019_fsca'] - fsca_cell['gt_circle']\n",
    "fsca['2019_vs_ellipse'] = fsca_cell['2019_fsca'] - fsca_cell['gt_ellipse']\n",
    "\n",
    "#fsca['grid_vs_cell'] = fsca_cell['grid_fsca'] - fsca_cell['gt_cell']\n",
    "#fsca['grid_vs_circle'] = fsca_cell['grid_fsca'] - fsca_cell['gt_circle']\n",
    "#fsca['grid_vs_ellipse'] = fsca_cell['grid_fsca'] - fsca_cell['gt_ellipse']\n",
    "\n",
    "r0s = sorted(r0.keys())#[20:]\n",
    "#r0s = ['stare17_1']\n",
    "\n",
    "for r0_string in r0s:\n",
    "    if 'stare' not in r0_string:\n",
    "        continue\n",
    "    fsca[f'{r0_string}_vs_ellipse'] = fsca_stare_modis[r0_string]['stare_fsca'] - fsca_cell['gt_ellipse']\n",
    "\n",
    "#fsca = fsca[(merged.ts_start>'2017-12-11') & (merged.ts_start<'2017-12-12') & (merged.y<575) & (merged.y>552)  & (merged.cloud_internal==False) & (merged.cloud<=1)]\n",
    "#fsca = fsca[(merged.ts_start>'2017-12-07') & (merged.ts_start<'2017-12-08')  & (merged.cloud_internal==False) & (merged.cloud<=1)]\n",
    "#fsca = fsca[(merged.ts_start>'2017-12-11') & (merged.ts_start<'2017-12-12')  & (merged.cloud_internal==False) & (merged.cloud<=1)]\n",
    "\n",
    "fsca = fsca[(merged.cloud<=1) & (merged.cloud_internal==False) ]\n",
    "fsca = fsca[['2019_vs_cell', '2019_vs_circle', '2019_vs_ellipse', 'stare14_1_vs_ellipse', 'stare14_4_vs_ellipse', 'stare15_4_vs_ellipse',  'stare16_4_vs_ellipse','stare17_4_vs_ellipse']]\n",
    "\n",
    "#fsca = fsca.drop_duplicates('stare17_3_vs_ellipse')\n",
    "#fsca = fsca[['2019_vs_cell',  '2019_vs_ellipse', 'stare16_1_vs_ellipse', 'stare16_4_vs_ellipse']]\n",
    "\n",
    "\n",
    "fsca.boxplot(ax=ax, rot=0, showfliers=False)\n",
    "plt.autoscale()\n",
    "ax.set_xticks([1,2,3,4,5,6,7,8,], \n",
    "              ['ifov: Cell\\n$R_0$:\\t Grid\\n$n_{view}$: 1', \n",
    "               'ifov: Circle\\n$R_0$:\\t Grid\\n$n_{view}$: 1', \n",
    "               'ifov: Ellipse\\n$R_0$:\\t Grid\\n$n_{view}$: 1', \n",
    "               'ifov: Ellipse\\n$R_0$:\\t L14\\n$n_{view}$: 1',\n",
    "               'ifov: Ellipse\\n$R_0$:\\t L14\\n$n_{view}$: 4',               \n",
    "               'ifov: Ellipse\\n$R_0$:\\t L15\\n$n_{view}$: 4',               \n",
    "               'ifov: Ellipse\\n$R_0$:\\t L16\\n$n_{view}$: 4',               \n",
    "               'ifov: Ellipse\\n$R_0$:\\t L17\\n$n_{view}$: 4',], \n",
    "              horizontalalignment='left')\n",
    "#ax.set_ylim(-0.1, 0.1)\n",
    "fig.tight_layout()\n",
    "fig.savefig('results.pdf')"
   ]
  },
  {
   "cell_type": "code",
   "execution_count": 161,
   "id": "88fbe546-fba0-4f54-a405-1efd2bb21f8c",
   "metadata": {},
   "outputs": [
    {
     "data": {
      "text/html": [
       "<div>\n",
       "<style scoped>\n",
       "    .dataframe tbody tr th:only-of-type {\n",
       "        vertical-align: middle;\n",
       "    }\n",
       "\n",
       "    .dataframe tbody tr th {\n",
       "        vertical-align: top;\n",
       "    }\n",
       "\n",
       "    .dataframe thead th {\n",
       "        text-align: right;\n",
       "    }\n",
       "</style>\n",
       "<table border=\"1\" class=\"dataframe\">\n",
       "  <thead>\n",
       "    <tr style=\"text-align: right;\">\n",
       "      <th></th>\n",
       "      <th>AME</th>\n",
       "      <th>RMSE</th>\n",
       "      <th>Variance</th>\n",
       "    </tr>\n",
       "  </thead>\n",
       "  <tbody>\n",
       "    <tr>\n",
       "      <th>2019_vs_cell</th>\n",
       "      <td>0.0617</td>\n",
       "      <td>0.0862</td>\n",
       "      <td>0.0070</td>\n",
       "    </tr>\n",
       "    <tr>\n",
       "      <th>2019_vs_ellipse</th>\n",
       "      <td>0.0523</td>\n",
       "      <td>0.0714</td>\n",
       "      <td>0.0047</td>\n",
       "    </tr>\n",
       "    <tr>\n",
       "      <th>stare16_1_vs_ellipse</th>\n",
       "      <td>0.0392</td>\n",
       "      <td>0.0608</td>\n",
       "      <td>0.0037</td>\n",
       "    </tr>\n",
       "    <tr>\n",
       "      <th>stare16_4_vs_ellipse</th>\n",
       "      <td>0.0373</td>\n",
       "      <td>0.0599</td>\n",
       "      <td>0.0036</td>\n",
       "    </tr>\n",
       "  </tbody>\n",
       "</table>\n",
       "</div>"
      ],
      "text/plain": [
       "                         AME    RMSE  Variance\n",
       "2019_vs_cell          0.0617  0.0862    0.0070\n",
       "2019_vs_ellipse       0.0523  0.0714    0.0047\n",
       "stare16_1_vs_ellipse  0.0392  0.0608    0.0037\n",
       "stare16_4_vs_ellipse  0.0373  0.0599    0.0036"
      ]
     },
     "execution_count": 161,
     "metadata": {},
     "output_type": "execute_result"
    }
   ],
   "source": [
    "pandas.DataFrame({'AME': fsca.abs().mean(),\n",
    "                 'RMSE': numpy.sqrt(numpy.square(fsca).mean()),\n",
    "                 'Variance': fsca.var()}).round(4)#.to_markdown('/home/griessbaum/m.md')#.sort_values('AME')"
   ]
  },
  {
   "cell_type": "markdown",
   "id": "37043187-9651-4165-b427-ae4c62b21bf0",
   "metadata": {},
   "source": [
    "### VNP"
   ]
  },
  {
   "cell_type": "code",
   "execution_count": null,
   "id": "2ecf14a5-f4f1-4e5b-8ff4-f67ff20c2719",
   "metadata": {},
   "outputs": [],
   "source": [
    "ddf = dask.dataframe.from_pandas(vnp09_day, npartitions=512)\n",
    "lut_delayed = dask.delayed(lut)\n",
    "worldview_delayed = dask.delayed(worldview_19)"
   ]
  },
  {
   "cell_type": "code",
   "execution_count": null,
   "id": "f9895a6e-32c9-43c4-a365-ed625b50b6a3",
   "metadata": {},
   "outputs": [],
   "source": [
    "fsca_stare = {}"
   ]
  },
  {
   "cell_type": "code",
   "execution_count": null,
   "id": "8af2e19f-c5fe-46b7-b9ca-13e88a70a920",
   "metadata": {
    "tags": []
   },
   "outputs": [],
   "source": [
    "%%time\n",
    "\n",
    "meta = {'stare_fsca':   numpy.float64,\n",
    "        'stare_fshade': numpy.float64,\n",
    "        'stare_rg':     numpy.float64,\n",
    "        'stare_dust':   numpy.float64,\n",
    "        'gt':           numpy.float64}\n",
    "\n",
    "def run(r0_string):    \n",
    "    r0_stare = r0_vnp[r0_string]\n",
    "    res = ddf.apply(compute_vnp, axis=1, meta=meta, r0_stare=r0_stare, lut=lut_delayed, worldview=worldview_19)\n",
    "    with dask.distributed.Client(cluster) as client:              \n",
    "        res = res.compute()\n",
    "    return res    \n",
    "for r0_string in sorted(r0_vnp.keys()):\n",
    "    print(r0_string)\n",
    "    if 'stare' not in r0_string:\n",
    "        continue        \n",
    "    fsca_stare[r0_string] = run(r0_string)"
   ]
  },
  {
   "cell_type": "code",
   "execution_count": null,
   "id": "15a5b054-508d-40c2-aa25-59e64f4c3160",
   "metadata": {
    "tags": []
   },
   "outputs": [],
   "source": [
    "%%time\n",
    "\n",
    "meta = {'stare_fsca':   numpy.float64,\n",
    "        'stare_fshade': numpy.float64,\n",
    "        'stare_rg':     numpy.float64,\n",
    "        'stare_dust':   numpy.float64,\n",
    "        'gt':           numpy.float64}\n",
    "\n",
    "def run(r0_string):    \n",
    "    r0_stare = r0[r0_string]\n",
    "    res = ddf.apply(compute_vnp, axis=1, meta=meta, r0_stare=r0_stare, lut=lut_delayed, worldview=worldview_19)\n",
    "    with dask.distributed.Client(cluster) as client:              \n",
    "        res = res.compute()\n",
    "    return res    \n",
    "\n",
    "for r0_string in sorted(r0.keys()):\n",
    "    print(r0_string)\n",
    "    if 'stare' not in r0_string:\n",
    "        continue        \n",
    "    fsca_stare[r0_string] = run(r0_string)"
   ]
  },
  {
   "cell_type": "markdown",
   "id": "7cad47cd-fe21-48d1-b898-2e1e7df19216",
   "metadata": {
    "tags": []
   },
   "source": [
    "## Closing and Plotting"
   ]
  },
  {
   "cell_type": "code",
   "execution_count": 73,
   "id": "e7680906-c743-40bf-851e-da9300ca97bc",
   "metadata": {
    "tags": []
   },
   "outputs": [
    {
     "name": "stdout",
     "output_type": "stream",
     "text": [
      "1331 605\n",
      "1402 545\n",
      "1364 581\n",
      "1331 607\n",
      "1330 608\n",
      "1331 608\n",
      "1316 614\n",
      "1401 546\n",
      "1327 611\n",
      "1328 611\n",
      "1329 611\n",
      "1334 608\n",
      "1401 546\n",
      "1400 546\n",
      "1332 608\n",
      "1333 608\n",
      "1334 608\n",
      "1329 608\n",
      "1330 608\n",
      "1331 608\n",
      "1332 608\n",
      "1332 606\n",
      "1337 606\n",
      "1330 609\n",
      "1332 609\n",
      "1332 610\n",
      "1329 610\n",
      "1330 610\n",
      "1331 610\n",
      "1364 583\n",
      "1329 611\n",
      "1330 611\n",
      "1403 544\n",
      "1404 544\n",
      "1400 546\n",
      "1403 544\n",
      "1404 544\n",
      "1330 611\n",
      "1330 609\n",
      "1365 582\n",
      "1389 547\n",
      "1403 544\n",
      "1404 544\n",
      "1330 606\n",
      "1331 606\n",
      "1330 607\n",
      "1331 607\n",
      "1329 612\n",
      "1364 583\n",
      "1333 609\n",
      "1327 610\n",
      "1332 610\n",
      "1361 587\n",
      "1364 583\n",
      "1400 546\n",
      "1401 546\n",
      "1329 610\n",
      "1330 607\n",
      "1332 607\n",
      "1365 582\n",
      "1401 546\n",
      "1401 545\n",
      "1402 545\n",
      "1403 545\n",
      "1405 543\n",
      "1406 543\n",
      "1331 609\n",
      "1332 609\n",
      "1328 610\n",
      "1330 609\n",
      "1331 609\n",
      "1332 609\n",
      "1333 609\n",
      "1328 610\n",
      "1329 610\n",
      "1330 610\n",
      "1331 610\n",
      "1332 610\n",
      "1330 607\n",
      "1331 607\n",
      "1330 609\n",
      "1332 609\n",
      "1329 609\n",
      "1364 583\n",
      "1331 608\n",
      "1332 608\n",
      "1401 544\n",
      "1401 545\n",
      "1332 607\n",
      "1402 545\n",
      "1401 545\n",
      "1402 545\n",
      "1403 545\n",
      "1400 545\n",
      "1401 545\n",
      "1330 607\n",
      "1330 609\n",
      "1334 607\n",
      "1332 604\n",
      "1401 545\n",
      "1374 568\n",
      "1390 547\n",
      "1331 605\n",
      "1401 545\n",
      "1402 545\n",
      "1334 608\n",
      "1401 545\n",
      "1402 545\n",
      "1329 609\n",
      "1330 609\n",
      "1333 609\n",
      "1327 610\n",
      "1328 610\n",
      "1330 610\n",
      "1403 544\n",
      "1404 544\n",
      "1362 586\n",
      "1328 609\n",
      "1330 609\n",
      "1373 569\n",
      "1374 569\n",
      "1402 545\n",
      "1330 607\n",
      "1332 607\n",
      "1374 568\n",
      "1375 568\n",
      "1330 606\n",
      "1365 582\n",
      "1401 545\n",
      "1402 545\n",
      "1403 545\n",
      "1401 546\n",
      "1401 546\n",
      "1404 544\n",
      "1330 608\n",
      "1331 608\n",
      "1334 608\n",
      "1365 582\n",
      "1402 545\n",
      "1403 545\n",
      "1332 606\n",
      "1400 546\n",
      "1401 546\n",
      "1401 545\n",
      "1330 609\n",
      "1407 542\n",
      "1403 544\n",
      "1331 605\n"
     ]
    }
   ],
   "source": [
    "#client.close()\n",
    "cluster.close()"
   ]
  },
  {
   "cell_type": "code",
   "execution_count": null,
   "id": "b4da6ee1-e0ab-42bc-a492-fdbfeaa73afb",
   "metadata": {
    "tags": []
   },
   "outputs": [],
   "source": [
    "fig = plt.figure(figsize=(10, 8), dpi=150)\n",
    "ax = fig.add_subplot()\n",
    "plt.subplots_adjust(left=0.05, bottom=0.2, right=0.95, top=0.95, wspace=0, hspace=0)\n",
    "\n",
    "df = pandas.concat(fsca_stare)\n",
    "df = df['stare_fsca'] - df['gt']\n",
    "df = df.reset_index()\n",
    "df = pandas.pivot_table(df.reset_index(), index= 'level_1', values=0, columns = 'level_0')\n",
    "\n",
    "df.boxplot(ax=ax, rot=90, showfliers=False)\n",
    "#ax.set_ylim(-0.3, 0.3)\n",
    "#fig.tight_layout()"
   ]
  },
  {
   "cell_type": "code",
   "execution_count": null,
   "id": "00466041-1fa0-4518-8157-e4faf9165e94",
   "metadata": {},
   "outputs": [],
   "source": [
    "pandas.DataFrame({'AME': df.abs().mean(),\n",
    "                 'RMSE': numpy.sqrt(numpy.square(df).mean()),\n",
    "                 'Variance': df.var()}).round(4)#.to_markdown('/home/griessbaum/m.md')#\n",
    "#df.abs().mean().sort_values()"
   ]
  },
  {
   "cell_type": "code",
   "execution_count": null,
   "id": "f52308bd-f55e-469f-92c6-be985ddb2d82",
   "metadata": {},
   "outputs": [],
   "source": [
    "plt.close('all')"
   ]
  },
  {
   "cell_type": "markdown",
   "id": "440f5971-84a4-442c-bc16-0a4714b018b6",
   "metadata": {},
   "source": [
    "## Boxplots"
   ]
  },
  {
   "cell_type": "markdown",
   "id": "2489ba01-fa46-4e25-bc16-03b7fb27d0e3",
   "metadata": {},
   "source": [
    "# Visualizations"
   ]
  },
  {
   "cell_type": "code",
   "execution_count": null,
   "id": "321f5aaf-02d4-44d4-88cf-ba12a508cca8",
   "metadata": {},
   "outputs": [],
   "source": [
    "ax = mod09ga[0:1].plot()\n",
    "cells.set_trixels('trixels_covers_18')[0:1].plot(ax=ax)"
   ]
  },
  {
   "cell_type": "code",
   "execution_count": null,
   "id": "834501f0-2253-4c95-a47e-9e25eec2709f",
   "metadata": {
    "tags": []
   },
   "outputs": [],
   "source": [
    "for idx, row in mod09ga.iterrows():    \n",
    "    sids = pystare.spatial_coerce_resolution(row['sids'], 19)\n",
    "    cell = cells[cells.set_sids('sids_covers_19').stare_intersects(sids)].to_dict()\n",
    "    cell_sids = cell['sids_covers_19']#.iloc[0]\n",
    "    print(row.x, row.y, cell['x'], cell['y'])"
   ]
  },
  {
   "cell_type": "code",
   "execution_count": null,
   "id": "33ea83ad-2092-46ec-9a51-11d3f8d31960",
   "metadata": {},
   "outputs": [],
   "source": [
    "ys = mod09ga['x'].to_numpy()#[0:64]\n",
    "xs = mod09ga['y'].to_numpy()#[0:64]"
   ]
  },
  {
   "cell_type": "markdown",
   "id": "73ee29c9-d5ba-4245-83e2-7dcec289255b",
   "metadata": {
    "tags": []
   },
   "source": [
    "# Ned's x = 1374; y = 568\n",
    "- 15: 0.754448\n",
    "- 16: 0.750294 \n",
    "- 17: 0.749762\n",
    "\n",
    "# Red's lake x = 1373; y = 566\n",
    "- 15: 0.210236\n",
    "- 15_7: 0.277106\n",
    "- 16_5: 0.210236\n",
    "- 17: 0.210236\n",
    "\n",
    "# McCoy x = 1379; y = 565\n",
    "- 15_5: 0.471604\n",
    "- 15_7: 0.400707\n",
    "- 16_1: 0.485828\n",
    "- 16_5: 0.484894 \n",
    "- 16_7: 0.431481\n",
    "- 17_5: 0.484894\n",
    "\n",
    "# Top Of Mammoth x = 1375; y = 568\n",
    "- 15: 0.754448\n",
    "- 16: 0.750294\n",
    "- 17_5: 0.749762"
   ]
  },
  {
   "cell_type": "code",
   "execution_count": null,
   "id": "843e6dee-2e65-4976-a162-4562c4daf3b6",
   "metadata": {},
   "outputs": [],
   "source": [
    "r0_stare = r0_stare16_7"
   ]
  },
  {
   "cell_type": "code",
   "execution_count": null,
   "id": "bed6db56-d288-41a4-9ecd-5b726608e72c",
   "metadata": {},
   "outputs": [],
   "source": [
    "x=xs[50]\n",
    "y=ys[50]\n",
    "#x = 1374; y = 568\n",
    "#x = 1373; y = 566\n",
    "x = 1379; y = 565\n",
    "#x = 1375; y = 568\n",
    "compute(x,y)"
   ]
  },
  {
   "cell_type": "code",
   "execution_count": null,
   "id": "7c9381a7-9027-4588-a062-2d389ff543e8",
   "metadata": {},
   "outputs": [],
   "source": [
    "level"
   ]
  },
  {
   "cell_type": "code",
   "execution_count": null,
   "id": "dd1722c4-1f66-4969-9bd4-8208f88b17f6",
   "metadata": {},
   "outputs": [],
   "source": [
    "mod09.set"
   ]
  },
  {
   "cell_type": "code",
   "execution_count": null,
   "id": "c54d1ce2-c413-4b15-b1f6-c7d1d8290f0b",
   "metadata": {},
   "outputs": [],
   "source": [
    "start = time.time()\n",
    "\n",
    "with multiprocessing.Pool(processes=64) as pool:\n",
    "    results = pool.starmap(compute, zip(xs, ys))\n",
    "\n",
    "print(time.time()-start)"
   ]
  },
  {
   "cell_type": "code",
   "execution_count": null,
   "id": "a1eebbab-baff-4b6d-a26c-437664a9027c",
   "metadata": {},
   "outputs": [],
   "source": [
    "results = pandas.concat(results)\n",
    "results['cell_error_cellR0'] = results['gt_cell']- results['cell_fsca']\n",
    "results['cirlce_error_cellR0'] = results['gt_circle']- results['cell_fsca']\n",
    "results['ellipse_error_cellR0'] = results['gt_ellipse']- results['cell_fsca']\n",
    "\n",
    "results['cell_error_stareR0'] = results['gt_cell']- results['stare_fsca']\n",
    "results['cirlce_error_stareR0'] = results['gt_circle']- results['stare_fsca']\n",
    "results['ellipse_error_stareR0'] = results['gt_ellipse']- results['stare_fsca']"
   ]
  },
  {
   "cell_type": "code",
   "execution_count": null,
   "id": "68b3639b-f5d9-46f2-a8cd-480a450b7e2b",
   "metadata": {},
   "outputs": [],
   "source": [
    "fig = plt.figure(figsize=(12, 7), dpi=100)\n",
    "ax = fig.add_subplot()\n",
    "\n",
    "results.boxplot(['cell_error_cellR0','cirlce_error_cellR0', 'ellipse_error_cellR0', 'cell_error_stareR0', 'cirlce_error_stareR0', 'ellipse_error_stareR0'])\n",
    "ax.set_ylim(-0.3, 0.6)\n",
    "fig.savefig('boxplot.png')"
   ]
  },
  {
   "cell_type": "markdown",
   "id": "346f0683-a5a8-423c-9b5b-bc32c0e8d941",
   "metadata": {},
   "source": [
    "## Single cell"
   ]
  },
  {
   "cell_type": "code",
   "execution_count": null,
   "id": "8fe8c25f-81bc-4c42-ad27-5885223a690e",
   "metadata": {},
   "outputs": [],
   "source": [
    "# Reds Lake: \n",
    "#x = 1373; y = 566\n",
    "\n",
    "# Ned's favorite / Kamikaze Run\n",
    "x = 1374; y = 568\n",
    "\n",
    "# Main Lodge\n",
    "#x = 1380; y = 563\n",
    "\n",
    "# McCoy / CUES\n",
    "#x = 1379; y = 565\n",
    "\n",
    "# Top Of Mammoth\n",
    "#x = 1375; y = 568"
   ]
  },
  {
   "cell_type": "code",
   "execution_count": null,
   "id": "818ac572-ad54-4816-95b8-a949e815ea8b",
   "metadata": {},
   "outputs": [],
   "source": [
    "cell = cells[(cells.x==x) & (cells.y==y)]\n",
    "\n",
    "r0_cell = r0_grid[(r0_grid.x==y) & (r0_grid.y==x)]\n",
    "r0_cell = find_ifov(mod09, r0_cell)\n",
    "\n",
    "mod09ga_cell = mod09ga[(mod09ga.x==y) & (mod09ga.y==x)]\n",
    "mod09ga_cell = find_ifov(mod09, mod09ga_cell)\n",
    "\n",
    "solar_z = mod09ga_cell['SolarZenith'].iloc[0]\n",
    "shade = numpy.zeros(7)"
   ]
  },
  {
   "cell_type": "code",
   "execution_count": null,
   "id": "0b161c26-7c57-4a1d-9988-b154be98e7cb",
   "metadata": {},
   "outputs": [],
   "source": [
    "speedy_invert(r=mod09ga_cell, r0=r0_cell)"
   ]
  },
  {
   "cell_type": "code",
   "execution_count": null,
   "id": "f1cf8696-ce13-419a-be26-6b88e0bdd9bb",
   "metadata": {},
   "outputs": [],
   "source": [
    "r0_best = get_best_r0(mod09ga_cell)    \n",
    "speedy_invert(mod09ga_cell, r0_best)"
   ]
  },
  {
   "cell_type": "code",
   "execution_count": null,
   "id": "a5669229-f9d9-4942-aafe-69b192d3b666",
   "metadata": {},
   "outputs": [],
   "source": [
    "cell_sids = cell['sids_covers_20'].iloc[0]\n",
    "get_ground_truth(cell_sids)"
   ]
  },
  {
   "cell_type": "code",
   "execution_count": null,
   "id": "c83e6e18-923b-49e7-8b1b-664b1e56f4a2",
   "metadata": {},
   "outputs": [],
   "source": [
    "circle_sids = make_circle_sids(mod09ga_cell)\n",
    "get_ground_truth(circle_sids)"
   ]
  },
  {
   "cell_type": "code",
   "execution_count": null,
   "id": "7773a277-9bc9-4407-9212-21cc63c9795d",
   "metadata": {},
   "outputs": [],
   "source": [
    "fig = plt.figure(figsize=(12, 7), dpi=100)\n",
    "ax = fig.add_subplot()\n",
    "\n",
    "circle = starepandas.STAREDataFrame(sids=[circle_sids])\n",
    "circle.set_trixels(circle.make_trixels(), inplace=True)\n",
    "circle.set_geometry('trixels', inplace=True)\n",
    "\n",
    "mod09ga_cell.to_crs(epsg=3857).plot(ax=ax, trixels=False, color='blue', label='observation')\n",
    "circle.to_crs(epsg=3857).plot(ax=ax, trixels=True, linewidth=0.2, color='blue', label='circular iFOV approximation')\n",
    "r0_best.to_crs(epsg=3857).plot(ax=ax, trixels=False, color='cyan', label='best R0')\n",
    "cell.set_geometry('polygons').exterior.to_crs(epsg=3857).plot(ax=ax, zorder=2, color='green', label='grid cell')\n",
    "r0_cell.to_crs(epsg=3857).plot(ax=ax, trixels=False, color='red', label='gridded R0')\n",
    "\n",
    "ax.legend()\n",
    "\n",
    "contextily.add_basemap(ax, source=contextily.providers.OpenStreetMap.Mapnik)"
   ]
  },
  {
   "cell_type": "code",
   "execution_count": null,
   "id": "b4e90715-7353-455e-ba53-168139f9d22d",
   "metadata": {},
   "outputs": [],
   "source": [
    "scan_pos"
   ]
  },
  {
   "cell_type": "code",
   "execution_count": 189,
   "id": "5173695c-d763-409f-8500-33fe2c64cfb1",
   "metadata": {},
   "outputs": [
    {
     "data": {
      "text/html": [
       "<div>\n",
       "<style scoped>\n",
       "    .dataframe tbody tr th:only-of-type {\n",
       "        vertical-align: middle;\n",
       "    }\n",
       "\n",
       "    .dataframe tbody tr th {\n",
       "        vertical-align: top;\n",
       "    }\n",
       "\n",
       "    .dataframe thead th {\n",
       "        text-align: right;\n",
       "    }\n",
       "</style>\n",
       "<table border=\"1\" class=\"dataframe\">\n",
       "  <thead>\n",
       "    <tr style=\"text-align: right;\">\n",
       "      <th></th>\n",
       "      <th>ts_start</th>\n",
       "      <th>index</th>\n",
       "      <th>lat</th>\n",
       "      <th>lon</th>\n",
       "      <th>sids</th>\n",
       "      <th>ts_end</th>\n",
       "      <th>scan_pos</th>\n",
       "      <th>track_pos</th>\n",
       "      <th>500m Surface Reflectance Band 1</th>\n",
       "      <th>500m Surface Reflectance Band 2</th>\n",
       "      <th>...</th>\n",
       "      <th>sids14</th>\n",
       "      <th>sids15</th>\n",
       "      <th>sids16</th>\n",
       "      <th>sids17</th>\n",
       "      <th>sids18</th>\n",
       "      <th>center_point</th>\n",
       "      <th>area</th>\n",
       "      <th>level</th>\n",
       "      <th>ndsi</th>\n",
       "      <th>ndvi</th>\n",
       "    </tr>\n",
       "  </thead>\n",
       "  <tbody>\n",
       "  </tbody>\n",
       "</table>\n",
       "<p>0 rows × 37 columns</p>\n",
       "</div>"
      ],
      "text/plain": [
       "Empty STAREDataFrame\n",
       "Columns: [ts_start, index, lat, lon, sids, ts_end, scan_pos, track_pos, 500m Surface Reflectance Band 1, 500m Surface Reflectance Band 2, 500m Surface Reflectance Band 3, 500m Surface Reflectance Band 4, 500m Surface Reflectance Band 5, 500m Surface Reflectance Band 6, 500m Surface Reflectance Band 7, 500m Reflectance Band Quality, 1km Reflectance Data State QA, cloud, cloud_shadow, cloud_internal, snow_mod35, snow_internal, SensorAzimuth, SensorZenith, SolarAzimuth, SolarZenith, modland_qa, sids14, sids15, sids16, sids17, sids18, center_point, area, level, ndsi, ndvi]\n",
       "Index: []\n",
       "\n",
       "[0 rows x 37 columns]"
      ]
     },
     "execution_count": 189,
     "metadata": {},
     "output_type": "execute_result"
    }
   ],
   "source": [
    "mod09[mod09['ts_start'] == '2021-01-09'>]"
   ]
  },
  {
   "cell_type": "code",
   "execution_count": null,
   "id": "d80fd67a-e426-44a1-ba7a-938da00b0bab",
   "metadata": {},
   "outputs": [],
   "source": []
  }
 ],
 "metadata": {
  "kernelspec": {
   "display_name": "stare",
   "language": "python",
   "name": "stare"
  },
  "language_info": {
   "codemirror_mode": {
    "name": "ipython",
    "version": 3
   },
   "file_extension": ".py",
   "mimetype": "text/x-python",
   "name": "python",
   "nbconvert_exporter": "python",
   "pygments_lexer": "ipython3",
   "version": "3.10.11"
  }
 },
 "nbformat": 4,
 "nbformat_minor": 5
}
